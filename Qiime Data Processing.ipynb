{
 "cells": [
  {
   "cell_type": "code",
   "execution_count": 293,
   "metadata": {},
   "outputs": [],
   "source": [
    "import numpy as np\n",
    "import pandas as pd\n",
    "import matplotlib.pyplot as plt\n",
    "import pickle\n",
    "import seaborn as sns"
   ]
  },
  {
   "cell_type": "code",
   "execution_count": 19,
   "metadata": {},
   "outputs": [],
   "source": [
    "from biom.table import Table\n",
    "from qiime2 import Artifact\n",
    "from qiime2.plugins import feature_table, longitudinal, diversity\n"
   ]
  },
  {
   "cell_type": "code",
   "execution_count": 20,
   "metadata": {},
   "outputs": [],
   "source": [
    "%matplotlib inline"
   ]
  },
  {
   "cell_type": "markdown",
   "metadata": {},
   "source": [
    "# Prepara Data\n",
    "\n",
    "## Convert the data from the pickle format to BIOM.\n",
    "\n",
    "The mouse data is filtered and is split up into two different sets: 4 healthy mice and 5 IBD mice. Each dataset has been stored in a pickle file. The aim of this section is to load the data, merge it into a single dataframe, containing all the experiment data, with each row representing an OTU."
   ]
  },
  {
   "cell_type": "markdown",
   "metadata": {},
   "source": [
    "**Load Pickle Files**\n",
    "\n",
    "The function below reads the pickle files and store the content into variables."
   ]
  },
  {
   "cell_type": "code",
   "execution_count": 6,
   "metadata": {},
   "outputs": [],
   "source": [
    "data_folder = '../Microbiome_Module_Material/Part c full processed data/'"
   ]
  },
  {
   "cell_type": "code",
   "execution_count": 7,
   "metadata": {},
   "outputs": [],
   "source": [
    "def get_data(set_nr=1):\n",
    "    with open(data_folder + 'mouse_set_' + str(set_nr) + '_data.pkl', 'rb') as handle:\n",
    "        mouse_set = pickle.load(handle)    \n",
    "    reads = mouse_set['reads']\n",
    "    qpcr = mouse_set['qpcr']\n",
    "    otu_taxonomy = mouse_set['otu_taxonomy']\n",
    "    times = mouse_set['times']\n",
    "    return reads, qpcr, otu_taxonomy, times"
   ]
  },
  {
   "cell_type": "code",
   "execution_count": 8,
   "metadata": {},
   "outputs": [],
   "source": [
    "reads_1, qpcr_1, otu_taxonomy_1, times_1 = get_data(1)\n",
    "reads_2, qpcr_2, otu_taxonomy_2, times_2 = get_data(2)"
   ]
  },
  {
   "cell_type": "markdown",
   "metadata": {},
   "source": [
    "**Create a merged dataframe**\n",
    "\n",
    "The function below merges the data about reads, qPCR, OTU taxonomy assigment into a single dataframe.\n",
    "It additionally compute the experiment phase, the day, the hour, the sample id."
   ]
  },
  {
   "cell_type": "code",
   "execution_count": 197,
   "metadata": {},
   "outputs": [],
   "source": [
    "df_all = pd.DataFrame(columns=[\"group\", \"mouse\",\"phase\",\"day\",\"hour\",\"time_i\",\"time_str\",\"sample\",\"otu\",\"sequence\",\"abundance\",\"total_abundance\",\"qpcr\",\"mass\",\"kingdom\",\"phylum\",\"class\",\"order\",\"family\",\"genus\"])"
   ]
  },
  {
   "cell_type": "code",
   "execution_count": 265,
   "metadata": {},
   "outputs": [],
   "source": [
    "def load_mouse_dataset(df, group, reads, qpcr, otu_taxonomy, times):\n",
    "    nb = df.shape[0]\n",
    "    for mouse_nr, mouse_reads in reads.items():\n",
    "        for i, time_str in enumerate(mouse_reads.columns):\n",
    "            mouse = mouse_nr\n",
    "            time_i = times[i]\n",
    "            qpcr_val = qpcr[mouse_nr].loc[time_str]['mean']\n",
    "            total_abundance = 0\n",
    "            nb_sub = nb\n",
    "            for otu, abundance in mouse_reads[time_str].iteritems():\n",
    "                total_abundance += abundance\n",
    "                phase = 1 if time_i<21.5 else 2 if time_i<28.5 else 3 if time_i<35.5 else 4 if time_i<42.5 else 5 if time_i<50.5 else 6 if time_i<57.5 else 7\n",
    "                day = time_str.replace('AM','').replace('AM','')\n",
    "                hour = 'AM' if 'AM' in time_str else 'PM'\n",
    "                sampleid = str(mouse) + 'd' + time_str.lower()\n",
    "                seq = otu_taxonomy.loc[otu].sequence\n",
    "                df.loc[nb] = [group, mouse_nr, phase, day, hour, time_i, time_str, \n",
    "                              sampleid, otu, seq, abundance, total_abundance, qpcr_val, qpcr_val,\n",
    "                                 otu_taxonomy.loc[otu].Kingdom,\n",
    "                                 otu_taxonomy.loc[otu].Phylum,\n",
    "                                 otu_taxonomy.loc[otu].Class,\n",
    "                                 otu_taxonomy.loc[otu].Order,\n",
    "                                 otu_taxonomy.loc[otu].Family,\n",
    "                                 otu_taxonomy.loc[otu].Genus]\n",
    "                nb += 1\n",
    "            df.loc[nb_sub:nb, 'mass'] = df.loc[nb_sub:nb].abundance * (qpcr_val/total_abundance) \n",
    "            df.loc[nb_sub:nb, 'total_abundance'] = total_abundance \n",
    "            #print(\"{} {} {}\".format(mouse_nr, time_str, df.shape[0]))\n",
    "    return df"
   ]
  },
  {
   "cell_type": "code",
   "execution_count": 280,
   "metadata": {},
   "outputs": [],
   "source": [
    "df_all = load_mouse_dataset(df_all, 1, reads_1, qpcr_1, otu_taxonomy_1, times_1)"
   ]
  },
  {
   "cell_type": "code",
   "execution_count": 281,
   "metadata": {},
   "outputs": [],
   "source": [
    "df_all = load_mouse_dataset(df_all, 2, reads_2, qpcr_2, otu_taxonomy_2, times_2)"
   ]
  },
  {
   "cell_type": "code",
   "execution_count": 282,
   "metadata": {
    "scrolled": true
   },
   "outputs": [],
   "source": [
    "#df_all.to_pickle(data_folder + 'mouse_set_data_merged_20190508.pkl')"
   ]
  },
  {
   "cell_type": "code",
   "execution_count": 323,
   "metadata": {},
   "outputs": [
    {
     "data": {
      "text/html": [
       "<div>\n",
       "<style scoped>\n",
       "    .dataframe tbody tr th:only-of-type {\n",
       "        vertical-align: middle;\n",
       "    }\n",
       "\n",
       "    .dataframe tbody tr th {\n",
       "        vertical-align: top;\n",
       "    }\n",
       "\n",
       "    .dataframe thead th {\n",
       "        text-align: right;\n",
       "    }\n",
       "</style>\n",
       "<table border=\"1\" class=\"dataframe\">\n",
       "  <thead>\n",
       "    <tr style=\"text-align: right;\">\n",
       "      <th></th>\n",
       "      <th>abundance</th>\n",
       "      <th>class</th>\n",
       "      <th>day</th>\n",
       "      <th>family</th>\n",
       "      <th>genus</th>\n",
       "      <th>group</th>\n",
       "      <th>hour</th>\n",
       "      <th>kingdom</th>\n",
       "      <th>mass</th>\n",
       "      <th>mouse</th>\n",
       "      <th>order</th>\n",
       "      <th>otu</th>\n",
       "      <th>phase</th>\n",
       "      <th>phylum</th>\n",
       "      <th>qpcr</th>\n",
       "      <th>sample</th>\n",
       "      <th>sequence</th>\n",
       "      <th>time_i</th>\n",
       "      <th>time_str</th>\n",
       "    </tr>\n",
       "  </thead>\n",
       "  <tbody>\n",
       "    <tr>\n",
       "      <th>0</th>\n",
       "      <td>1094</td>\n",
       "      <td>Bacteroidia</td>\n",
       "      <td>0</td>\n",
       "      <td>Bacteroidaceae</td>\n",
       "      <td>Bacteroides</td>\n",
       "      <td>1</td>\n",
       "      <td>AM</td>\n",
       "      <td>Bacteria</td>\n",
       "      <td>3.258519e+06</td>\n",
       "      <td>2</td>\n",
       "      <td>Bacteroidales</td>\n",
       "      <td>OTU_1</td>\n",
       "      <td>1</td>\n",
       "      <td>Bacteroidetes</td>\n",
       "      <td>8.724134e+06</td>\n",
       "      <td>2d0am</td>\n",
       "      <td>TACGGAGGATCCGAGCGTTATCCGGATTTATTGGGTTTAAAGGGAG...</td>\n",
       "      <td>0.0</td>\n",
       "      <td>0AM</td>\n",
       "    </tr>\n",
       "    <tr>\n",
       "      <th>1</th>\n",
       "      <td>180</td>\n",
       "      <td>Bacteroidia</td>\n",
       "      <td>0</td>\n",
       "      <td>Bacteroidaceae</td>\n",
       "      <td>Bacteroides</td>\n",
       "      <td>1</td>\n",
       "      <td>AM</td>\n",
       "      <td>Bacteria</td>\n",
       "      <td>5.361366e+05</td>\n",
       "      <td>2</td>\n",
       "      <td>Bacteroidales</td>\n",
       "      <td>OTU_2</td>\n",
       "      <td>1</td>\n",
       "      <td>Bacteroidetes</td>\n",
       "      <td>8.724134e+06</td>\n",
       "      <td>2d0am</td>\n",
       "      <td>TACGGAGGATCCGAGCGTTATCCGGATTTATTGGGTTTAAAGGGAG...</td>\n",
       "      <td>0.0</td>\n",
       "      <td>0AM</td>\n",
       "    </tr>\n",
       "    <tr>\n",
       "      <th>2</th>\n",
       "      <td>10</td>\n",
       "      <td>Verrucomicrobiae</td>\n",
       "      <td>0</td>\n",
       "      <td>Verrucomicrobiaceae</td>\n",
       "      <td>Akkermansia</td>\n",
       "      <td>1</td>\n",
       "      <td>AM</td>\n",
       "      <td>Bacteria</td>\n",
       "      <td>2.978537e+04</td>\n",
       "      <td>2</td>\n",
       "      <td>Verrucomicrobiales</td>\n",
       "      <td>OTU_3</td>\n",
       "      <td>1</td>\n",
       "      <td>Verrucomicrobia</td>\n",
       "      <td>8.724134e+06</td>\n",
       "      <td>2d0am</td>\n",
       "      <td>TACAGAGGTCTCAAGCGTTGTTCGGAATCACTGGGCGTAAAGCGTG...</td>\n",
       "      <td>0.0</td>\n",
       "      <td>0AM</td>\n",
       "    </tr>\n",
       "  </tbody>\n",
       "</table>\n",
       "</div>"
      ],
      "text/plain": [
       "   abundance             class day               family        genus group  \\\n",
       "0       1094       Bacteroidia   0       Bacteroidaceae  Bacteroides     1   \n",
       "1        180       Bacteroidia   0       Bacteroidaceae  Bacteroides     1   \n",
       "2         10  Verrucomicrobiae   0  Verrucomicrobiaceae  Akkermansia     1   \n",
       "\n",
       "  hour   kingdom          mass mouse               order    otu phase  \\\n",
       "0   AM  Bacteria  3.258519e+06     2       Bacteroidales  OTU_1     1   \n",
       "1   AM  Bacteria  5.361366e+05     2       Bacteroidales  OTU_2     1   \n",
       "2   AM  Bacteria  2.978537e+04     2  Verrucomicrobiales  OTU_3     1   \n",
       "\n",
       "            phylum          qpcr sample  \\\n",
       "0    Bacteroidetes  8.724134e+06  2d0am   \n",
       "1    Bacteroidetes  8.724134e+06  2d0am   \n",
       "2  Verrucomicrobia  8.724134e+06  2d0am   \n",
       "\n",
       "                                            sequence  time_i time_str  \n",
       "0  TACGGAGGATCCGAGCGTTATCCGGATTTATTGGGTTTAAAGGGAG...     0.0      0AM  \n",
       "1  TACGGAGGATCCGAGCGTTATCCGGATTTATTGGGTTTAAAGGGAG...     0.0      0AM  \n",
       "2  TACAGAGGTCTCAAGCGTTGTTCGGAATCACTGGGCGTAAAGCGTG...     0.0      0AM  "
      ]
     },
     "execution_count": 323,
     "metadata": {},
     "output_type": "execute_result"
    }
   ],
   "source": [
    "df_all[df_all.columns.difference(['total_abundance'])].head(3)"
   ]
  },
  {
   "cell_type": "code",
   "execution_count": 321,
   "metadata": {},
   "outputs": [
    {
     "data": {
      "text/plain": [
       "(298806, 20)"
      ]
     },
     "execution_count": 321,
     "metadata": {},
     "output_type": "execute_result"
    }
   ],
   "source": [
    "df_all.shape"
   ]
  },
  {
   "cell_type": "code",
   "execution_count": null,
   "metadata": {},
   "outputs": [],
   "source": [
    "'''\n",
    "data_folder = '../Microbiome_Module_Material/Part c full processed data/'\n",
    "with open(data_folder + 'mouse_set_data_merged_20190508.pkl', 'rb') as handle:\n",
    "    df_all = pickle.load(handle)    \n",
    "df_all.head()\n",
    "'''"
   ]
  },
  {
   "cell_type": "markdown",
   "metadata": {},
   "source": [
    "**Save as BIOM file**\n",
    "\n",
    "In order to conduct microbiome analysis in common platforms such as QIIME, we need to convert the data in a BIOM format. The BIOM file format (canonically pronounced biome) is designed to be a general-use format for representing biological sample by observation contingency tables. BIOM is a recognized standard for the Earth Microbiome Project and is a Genomics Standards Consortium supported project. \n",
    "\n",
    "The Biological Observation Matrix (BIOM) format or: how I learned to stop worrying and love the ome-ome.\n",
    "Daniel McDonald, Jose C. Clemente, Justin Kuczynski, Jai Ram Rideout, Jesse Stombaugh, Doug Wendel, Andreas Wilke, Susan Huse, John Hufnagle, Folker Meyer, Rob Knight, and J. Gregory Caporaso.\n",
    "GigaScience 2012, 1:7. doi:10.1186/2047-217X-1-7\n"
   ]
  },
  {
   "cell_type": "markdown",
   "metadata": {},
   "source": [
    "We first create the BIOM rows list."
   ]
  },
  {
   "cell_type": "code",
   "execution_count": 146,
   "metadata": {},
   "outputs": [],
   "source": [
    "rows = df_all[['otu','sequence', 'kingdom','phylum','class','order','family','genus']].groupby('otu').max().reset_index()\n",
    "rows['id']=rows.otu.str.replace('OTU_','').astype(int)\n",
    "rows = rows.sort_values(by='id')"
   ]
  },
  {
   "cell_type": "code",
   "execution_count": 147,
   "metadata": {},
   "outputs": [],
   "source": [
    "rows_list = [{\"id\": r.otu, \n",
    "              \"metadata\": {\"taxonomy\": \"k__{}; p__{}; c__{}; o__{}; f__{}; g__{}\".format(r.kingdom,\n",
    "                                                                                         r.phylum,\n",
    "                                                                                         r['class'],\n",
    "                                                                                         r.order,\n",
    "                                                                                         r.family,\n",
    "                                                                                         r.genus),\n",
    "                           \"sequence\": r.sequence\n",
    "                          }\n",
    "             } for i, r in rows.iterrows()]"
   ]
  },
  {
   "cell_type": "markdown",
   "metadata": {},
   "source": [
    "We create the BIOM columns list."
   ]
  },
  {
   "cell_type": "code",
   "execution_count": 171,
   "metadata": {},
   "outputs": [],
   "source": [
    "columns = df_all[['sample','mouse','group','phase','day','hour','time_i','time_str','qpcr']].groupby('sample').max().reset_index().rename(columns={'sample':'sampleid'})\n",
    "columns = columns.sort_values(by=['mouse','group','phase','time_i','day','hour'])\n",
    "columns.mouse = columns.mouse.astype(str)\n",
    "columns.phase = columns.phase.astype(str)\n",
    "columns.group = columns.group.astype(str)\n",
    "columns.mouse = 'mouse_0' + columns.mouse\n",
    "columns.mouse = columns.mouse.str.replace('010','10')\n",
    "columns.phase = 'phase_' + columns.phase\n",
    "columns.group = columns.group.apply(lambda g: 'IBD' if g=='2' else 'Healthy')"
   ]
  },
  {
   "cell_type": "markdown",
   "metadata": {},
   "source": [
    "The abundance is stored in a dense matrix as follows. "
   ]
  },
  {
   "cell_type": "code",
   "execution_count": null,
   "metadata": {},
   "outputs": [],
   "source": [
    "data = []\n",
    "nb = 0\n",
    "for i,row in rows.iterrows():\n",
    "    df_row = df_all[df_all.otu==row.otu]\n",
    "    r = []\n",
    "    for j,col in columns.iterrows():\n",
    "        df = df_row[df_row['sample']==col.sampleid]\n",
    "        if df.shape[0]==0:\n",
    "            r.append(0)\n",
    "        else:\n",
    "            r.append(df.iloc[0].abundance)\n",
    "    data.append(r)\n",
    "    nb = nb + 1\n",
    "    #print(nb)"
   ]
  },
  {
   "cell_type": "markdown",
   "metadata": {},
   "source": [
    "The BIOM data file is created as JSON."
   ]
  },
  {
   "cell_type": "code",
   "execution_count": null,
   "metadata": {},
   "outputs": [],
   "source": [
    "biom_data = {\n",
    " \"id\":\"ID\",\n",
    " \"format\": \"Biological Observation Matrix 0.9.1-dev\",\n",
    " \"format_url\": \"http://biom-format.org/documentation/format_versions/biom-1.0.html\",\n",
    " \"type\": \"OTU table\",\n",
    " \"generated_by\": \"Python\",\n",
    " \"date\": \"2019-05-05T19:00:00\",\n",
    " \"rows\":rows_list,\n",
    " \"columns\": columns_list,\n",
    " \"matrix_type\": \"dense\",\n",
    " \"matrix_element_type\": \"int\",\n",
    " \"shape\": [len(rows),len(columns)],\n",
    " \"data\": data\n",
    "}"
   ]
  },
  {
   "cell_type": "code",
   "execution_count": null,
   "metadata": {},
   "outputs": [],
   "source": [
    "import json\n",
    "with open('mouse_set_data_merged.biom', 'w') as fout:\n",
    "    json.dump(biom_data , fout)"
   ]
  },
  {
   "cell_type": "markdown",
   "metadata": {},
   "source": [
    "We also store the sample information in a metadata file."
   ]
  },
  {
   "cell_type": "code",
   "execution_count": null,
   "metadata": {},
   "outputs": [],
   "source": [
    "columns.to_csv('mouse_set_metadata.tsv', sep='\\t', index=False)"
   ]
  },
  {
   "cell_type": "markdown",
   "metadata": {},
   "source": [
    "We also recosntruct the FASTA sequence file as follows."
   ]
  },
  {
   "cell_type": "code",
   "execution_count": null,
   "metadata": {},
   "outputs": [],
   "source": [
    "with open('mouse_set_data-dna-sequences.fasta', 'a') as the_file:\n",
    "    for i, r in rows.iterrows():\n",
    "        the_file.write('>' + r.otu + '\\n' + r.sequence + '\\n')"
   ]
  },
  {
   "cell_type": "code",
   "execution_count": null,
   "metadata": {},
   "outputs": [],
   "source": []
  },
  {
   "cell_type": "markdown",
   "metadata": {},
   "source": [
    "# Analysis in QIIME\n",
    "\n",
    "QIIME 2 is a powerful, extensible, and decentralized microbiome analysis package with a focus on data and analysis transparency.\n",
    "\n",
    "Installing QIIME 2 on JupyterHub is straightforward, via terminal. The following command creates a new environement and installs the packages required by QUIIME.\n",
    "\n",
    "`wget https://data.qiime2.org/distro/core/qiime2-2019.4-py36-linux-conda.yml`\n",
    "\n",
    "`conda env create -n qiime2-2019.4 --file qiime2-2019.4-py36-linux-conda.yml`\n",
    "\n",
    "`source activate qiime2-2019.4`"
   ]
  },
  {
   "cell_type": "markdown",
   "metadata": {},
   "source": [
    "\n",
    "## Convert the data QIIME2 format.\n",
    "\n",
    "Data handled by QIIME 2 exist as QIIME 2 artifacts. A QIIME 2 artifact contains data and metadata. The metadata describes things about the data, such as its type, format, and how it was generated (provenance). A QIIME 2 artifact typically has the .qza file extension when stored in a file. The metadata file has the .tsv extension."
   ]
  },
  {
   "cell_type": "markdown",
   "metadata": {},
   "source": [
    "The following command convert our BIOM file `mouse_set_data_merged.biom`, previously created to a QIIME artifact file `mouse_set_data_merged.qza`."
   ]
  },
  {
   "cell_type": "code",
   "execution_count": 23,
   "metadata": {},
   "outputs": [
    {
     "name": "stdout",
     "output_type": "stream",
     "text": [
      "Imported ../Microbiome_Module_Material/Part c full processed data/mouse_set_data_merged.biom as BIOMV100Format to mouse_set_data_merged2.qza\n"
     ]
    }
   ],
   "source": [
    "%%bash -e\n",
    "/usr/share/anaconda3/envs/qiime2-2019.1/bin/qiime tools import \\\n",
    "  --input-path mouse_set_data_merged.biom \\\n",
    "  --type 'FeatureTable[Frequency]' \\\n",
    "  --input-format BIOMV100Format \\\n",
    "  --output-path mouse_set_data_merged.qza"
   ]
  },
  {
   "cell_type": "markdown",
   "metadata": {},
   "source": [
    "The following command created a visualization of our data using metadata information previousy stored in `mouse_set_metadata.tsv`. Visualizations are another type of data generated by QIIME 2. When written to disk, visualization files typically have the .qzv file extension. They can include statistical results table, an interactive visualization, static image, etc. We can use https://view.qiime2.org to easily view QIIME 2 artifacts and visualizations files."
   ]
  },
  {
   "cell_type": "code",
   "execution_count": 263,
   "metadata": {},
   "outputs": [
    {
     "name": "stdout",
     "output_type": "stream",
     "text": [
      "Saved Visualization to: mouse_set_data_merged.qzv\n"
     ]
    }
   ],
   "source": [
    "%%bash -e\n",
    "/usr/share/anaconda3/envs/qiime2-2019.1/bin/qiime feature-table summarize \\\n",
    "  --i-table mouse_set_data_merged.qza \\\n",
    "  --o-visualization mouse_set_data_merged.qzv \\\n",
    "  --m-sample-metadata-file mouse_set_metadata.tsv"
   ]
  },
  {
   "cell_type": "markdown",
   "metadata": {},
   "source": [
    "Below we observe the number of samples recorded per experimental phase. \n",
    "![](images/barchart_samples_per_phase.jpg)\n",
    "\n",
    "The number of sequences (reads) recorded from all mice distributed normally around mean 60,000 per sample. We have 665 samples, 279 features, 38,113,920 total frequency. The smallest sample has 74 frequency, the biggest samples has 143,766 frequency, the average is 57,314. The less occuring feature has frequency 131. The moast occuring feature has frequency 5,965,486, while the average per feature is 136,609.\n",
    "\n",
    "\n",
    "![](images/sample-frequencies.jpg)\n"
   ]
  },
  {
   "cell_type": "markdown",
   "metadata": {},
   "source": [
    "Additionally to the OTU table and samples metadata, we need the original sequence for each sample in order to analyze the microbiome data with phylogenic insight. We use our sequences FASTA file `mouse_set_data-dna-sequences` to manually create a QIIME sequence artifact file `mouse_set_data_merged-seqs.qza`. "
   ]
  },
  {
   "cell_type": "markdown",
   "metadata": {},
   "source": [
    "## Alpha and beta diversity analysis\n",
    "\n",
    "QIIME supports several phylogenetic diversity metrics, including Faith’s Phylogenetic Diversity (expressed as the number of tree units which are found in a sample) as well as weighted and unweighted UniFrac. In addition to counts of features, these metrics require a rooted phylogenetic tree relating the features to one another. \n",
    "\n",
    "First, the pipeline uses the mafft program to perform a multiple sequence alignment of the sequences. Next, the pipeline filters the alignment to remove positions that are highly variable. Following that, the pipeline applies FastTree to generate a phylogenetic tree from the masked alignment. The FastTree program creates an unrooted tree, as well as a rooted tree by placing the root of the tree at the midpoint of the longest tip-to-tip distance in the unrooted tree. The rooted tree is stored as QIIME artifact in the file `mouse_set_data_merged-rooted-tree.qza`."
   ]
  },
  {
   "cell_type": "code",
   "execution_count": null,
   "metadata": {},
   "outputs": [],
   "source": [
    "%%bash -e\n",
    "/usr/share/anaconda3/envs/qiime2-2019.1/bin/qiime phylogeny align-to-tree-mafft-fasttree \\\n",
    "  --i-sequences mouse_set_data_merged-seqs.qza \\\n",
    "  --o-alignment aligned-rep-seqs.qza \\\n",
    "  --o-masked-alignment masked-aligned-rep-seqs.qza \\\n",
    "  --o-tree unrooted-tree.qza \\\n",
    "  --o-rooted-tree mouse_set_data_merged-rooted-tree.qza"
   ]
  },
  {
   "cell_type": "markdown",
   "metadata": {},
   "source": [
    "For diversity analyses the QIIME first rarefies the OTU table to a user-specified depth, computes several alpha and beta diversity metrics, and generates principle coordinates analysis (PCoA) plots using Emperor for each of the beta diversity metrics. Because most diversity metrics are sensitive to different sampling depths across different samples, this script will randomly subsample the counts from each sample to the value provided as parameter. We choose a value that is as high as possible (so we retain more sequences per sample) while excluding as few samples as possible."
   ]
  },
  {
   "cell_type": "code",
   "execution_count": 29,
   "metadata": {},
   "outputs": [
    {
     "name": "stdout",
     "output_type": "stream",
     "text": [
      "Saved FeatureTable[Frequency] to: mouse-core-metrics-results/rarefied_table.qza\n",
      "Saved SampleData[AlphaDiversity] % Properties(['phylogenetic']) to: mouse-core-metrics-results/faith_pd_vector.qza\n",
      "Saved SampleData[AlphaDiversity] to: mouse-core-metrics-results/observed_otus_vector.qza\n",
      "Saved SampleData[AlphaDiversity] to: mouse-core-metrics-results/shannon_vector.qza\n",
      "Saved SampleData[AlphaDiversity] to: mouse-core-metrics-results/evenness_vector.qza\n",
      "Saved DistanceMatrix % Properties(['phylogenetic']) to: mouse-core-metrics-results/unweighted_unifrac_distance_matrix.qza\n",
      "Saved DistanceMatrix % Properties(['phylogenetic']) to: mouse-core-metrics-results/weighted_unifrac_distance_matrix.qza\n",
      "Saved DistanceMatrix to: mouse-core-metrics-results/jaccard_distance_matrix.qza\n",
      "Saved DistanceMatrix to: mouse-core-metrics-results/bray_curtis_distance_matrix.qza\n",
      "Saved PCoAResults to: mouse-core-metrics-results/unweighted_unifrac_pcoa_results.qza\n",
      "Saved PCoAResults to: mouse-core-metrics-results/weighted_unifrac_pcoa_results.qza\n",
      "Saved PCoAResults to: mouse-core-metrics-results/jaccard_pcoa_results.qza\n",
      "Saved PCoAResults to: mouse-core-metrics-results/bray_curtis_pcoa_results.qza\n",
      "Saved Visualization to: mouse-core-metrics-results/unweighted_unifrac_emperor.qzv\n",
      "Saved Visualization to: mouse-core-metrics-results/weighted_unifrac_emperor.qzv\n",
      "Saved Visualization to: mouse-core-metrics-results/jaccard_emperor.qzv\n",
      "Saved Visualization to: mouse-core-metrics-results/bray_curtis_emperor.qzv\n"
     ]
    }
   ],
   "source": [
    "%%bash -e\n",
    "/usr/share/anaconda3/envs/qiime2-2019.1/bin/qiime diversity core-metrics-phylogenetic \\\n",
    "  --i-phylogeny mouse_set_data_merged-rooted-tree.qza \\\n",
    "  --i-table mouse_set_data_merged.qza \\\n",
    "  --p-sampling-depth 10000 \\\n",
    "  --m-metadata-file mouse_set_metadata.tsv \\\n",
    "  --output-dir mouse-core-metrics-results\n",
    "  "
   ]
  },
  {
   "cell_type": "markdown",
   "metadata": {},
   "source": [
    "After computing diversity metrics, we can begin to explore the microbial composition of the samples in the context of the sample metadata. This information is present in the sample metadata file `mouse_set_metadata.tsv`.\n",
    "\n",
    "We’ll first test for associations between categorical metadata columns and alpha diversity data. We’ll do that here for the Faith Phylogenetic Diversity (a measure of community richness) and evenness metrics."
   ]
  },
  {
   "cell_type": "code",
   "execution_count": 36,
   "metadata": {},
   "outputs": [
    {
     "name": "stdout",
     "output_type": "stream",
     "text": [
      "Saved Visualization to: mouse-core-metrics-results/mouse_set-faith-pd-group-significance.qzv\n"
     ]
    }
   ],
   "source": [
    "%%bash -e\n",
    "/usr/share/anaconda3/envs/qiime2-2019.1/bin/qiime diversity alpha-group-significance \\\n",
    "  --i-alpha-diversity mouse-core-metrics-results/faith_pd_vector.qza \\\n",
    "  --m-metadata-file mouse_set_metadata.tsv \\\n",
    "  --o-visualization mouse-core-metrics-results/mouse_set-faith-pd-group-significance.qzv"
   ]
  },
  {
   "cell_type": "markdown",
   "metadata": {},
   "source": [
    "As seen below, **health status is the categorical sample metadata column that is most strongly associated with the differences in microbial community richness.**\n",
    "\n",
    "![](images/alpha-diversity-boxplot_mouse.jpg)\n",
    "\n",
    "Richness significantly increases in phase 2 (High Fat Diet). Alpha diversity tells about the diversity (richness) within each individual sample: how many species are present, how much of the phylogenetic tree is covered. When comparing groups of samples (e.g., experimental phase, with a Kruskal-Wallis test), we are testing how richness differs between groups. In phase 2 (high fat diet), we notice more unique species/phylotypes within each individual mouse than in any other phase. The difference with phase 1 is significant with P value 2e-04, 4e-05 for phase 3, 3.6e-12 for phase 4, etc. Gram+ ABX antibiotics significantly reduces alpha diversity in phase 4, richness is the lowest during antibiotics treatement and also during the following washout phase. Diversity reduction is also visible during antibiotics treatement with Gram- ABX in phase 6, but with a far lesser extend than when mice where treated with Gram+ antibiotics. This suggests that **individual mice have more Gram+ bateria species than Gram- bacteria species.**\n",
    "\n",
    "![](images/alpha-diversity-boxplot_phase.jpg)"
   ]
  },
  {
   "cell_type": "markdown",
   "metadata": {},
   "source": [
    "We analyze sample composition in the context of categorical metadata using PERMANOVA. Below we test whether distances between samples from a healthy mouse, are more similar to each other than they are to samples from IBD mice. "
   ]
  },
  {
   "cell_type": "code",
   "execution_count": 38,
   "metadata": {},
   "outputs": [
    {
     "name": "stdout",
     "output_type": "stream",
     "text": [
      "Saved Visualization to: mouse-core-metrics-results/unweighted-unifrac-group-significance.qzv\n"
     ]
    }
   ],
   "source": [
    "%%bash -e\n",
    "/usr/share/anaconda3/envs/qiime2-2019.1/bin/qiime diversity beta-group-significance \\\n",
    "  --i-distance-matrix mouse-core-metrics-results/unweighted_unifrac_distance_matrix.qza \\\n",
    "  --m-metadata-file mouse_set_metadata.tsv \\\n",
    "  --m-metadata-column group \\\n",
    "  --o-visualization mouse-core-metrics-results/unweighted-unifrac-group-significance.qzv \\\n",
    "  --p-pairwise"
   ]
  },
  {
   "cell_type": "markdown",
   "metadata": {},
   "source": [
    "Microbial composition is statistically different between healthy and disease mice with p<0.001.\n",
    "\n",
    "![](images/group-significance-plot.jpg)"
   ]
  },
  {
   "cell_type": "raw",
   "metadata": {},
   "source": [
    "**Analysis of IBD disease development**\n",
    "\n",
    "The cause of the inflammatory bowel diseases (IBD), ulcerative colitis, and Crohn's disease, is not known. Studies suggest they are caused by a combination of genetic factors, diet, alterations in the gut microbiome, breach of intestinal barrier, and immune system dysfunction.\n",
    "\n",
    "Baumgart DC, Carding SR (May 2007). \"Inflammatory bowel disease: cause and immunobiology\". Lancet. 369 (9573): 1627–40. doi:10.1016/S0140-6736(07)60750-8. PMID 17499605.\n",
    "\n",
    "Below we study Alpha and Beta diversity between IBD mice before perturbation and Healthy mice after perturbations. "
   ]
  },
  {
   "cell_type": "code",
   "execution_count": 272,
   "metadata": {},
   "outputs": [
    {
     "name": "stdout",
     "output_type": "stream",
     "text": [
      "Saved FeatureTable[Frequency] to: mouse_set_data_merged_IBD_Dev.qza\n",
      "Saved FeatureTable[Frequency] to: mouse-core-metrics-results_IBD_Dev/rarefied_table.qza\n",
      "Saved SampleData[AlphaDiversity] % Properties(['phylogenetic']) to: mouse-core-metrics-results_IBD_Dev/faith_pd_vector.qza\n",
      "Saved SampleData[AlphaDiversity] to: mouse-core-metrics-results_IBD_Dev/observed_otus_vector.qza\n",
      "Saved SampleData[AlphaDiversity] to: mouse-core-metrics-results_IBD_Dev/shannon_vector.qza\n",
      "Saved SampleData[AlphaDiversity] to: mouse-core-metrics-results_IBD_Dev/evenness_vector.qza\n",
      "Saved DistanceMatrix % Properties(['phylogenetic']) to: mouse-core-metrics-results_IBD_Dev/unweighted_unifrac_distance_matrix.qza\n",
      "Saved DistanceMatrix % Properties(['phylogenetic']) to: mouse-core-metrics-results_IBD_Dev/weighted_unifrac_distance_matrix.qza\n",
      "Saved DistanceMatrix to: mouse-core-metrics-results_IBD_Dev/jaccard_distance_matrix.qza\n",
      "Saved DistanceMatrix to: mouse-core-metrics-results_IBD_Dev/bray_curtis_distance_matrix.qza\n",
      "Saved PCoAResults to: mouse-core-metrics-results_IBD_Dev/unweighted_unifrac_pcoa_results.qza\n",
      "Saved PCoAResults to: mouse-core-metrics-results_IBD_Dev/weighted_unifrac_pcoa_results.qza\n",
      "Saved PCoAResults to: mouse-core-metrics-results_IBD_Dev/jaccard_pcoa_results.qza\n",
      "Saved PCoAResults to: mouse-core-metrics-results_IBD_Dev/bray_curtis_pcoa_results.qza\n",
      "Saved Visualization to: mouse-core-metrics-results_IBD_Dev/unweighted_unifrac_emperor.qzv\n",
      "Saved Visualization to: mouse-core-metrics-results_IBD_Dev/weighted_unifrac_emperor.qzv\n",
      "Saved Visualization to: mouse-core-metrics-results_IBD_Dev/jaccard_emperor.qzv\n",
      "Saved Visualization to: mouse-core-metrics-results_IBD_Dev/bray_curtis_emperor.qzv\n"
     ]
    }
   ],
   "source": [
    "%%bash -e\n",
    "/usr/share/anaconda3/envs/qiime2-2019.1/bin/qiime feature-table filter-samples \\\n",
    "  --i-table mouse_set_data_merged.qza \\\n",
    "  --m-metadata-file mouse_set_metadata.tsv \\\n",
    "  --p-where \"(phase='phase_1' and \\\"group\\\"='IBD') or (phase='phase_7' and \\\"group\\\"='Healthy')\" \\\n",
    "  --o-filtered-table mouse_set_data_merged_IBD_Dev.qza\n",
    "\n",
    "/usr/share/anaconda3/envs/qiime2-2019.1/bin/qiime diversity core-metrics-phylogenetic \\\n",
    "  --i-phylogeny mouse_set_data_merged-rooted-tree.qza \\\n",
    "  --i-table mouse_set_data_merged_IBD_Dev.qza \\\n",
    "  --p-sampling-depth 10000 \\\n",
    "  --m-metadata-file mouse_set_metadata.tsv \\\n",
    "  --output-dir mouse-core-metrics-results_IBD_Dev\n",
    "  \n",
    "/usr/share/anaconda3/envs/qiime2-2019.1/bin/qiime diversity alpha-group-significance \\\n",
    "  --i-alpha-diversity mouse-core-metrics-results_IBD_Dev/faith_pd_vector.qza \\\n",
    "  --m-metadata-file mouse_set_metadata.tsv \\\n",
    "  --o-visualization mouse-core-metrics-results_IBD_Dev/mouse_set-faith-pd-group-significance.qzv\n",
    "\n",
    "/usr/share/anaconda3/envs/qiime2-2019.1/bin/qiime diversity beta-group-significance \\\n",
    "  --i-distance-matrix mouse-core-metrics-results_IBD_Dev/unweighted_unifrac_distance_matrix.qza \\\n",
    "  --m-metadata-file mouse_set_metadata.tsv \\\n",
    "  --m-metadata-column group \\\n",
    "  --o-visualization mouse-core-metrics-results_IBD_Dev/unweighted-unifrac-group-significance.qzv \\\n",
    "  --p-pairwise"
   ]
  },
  {
   "cell_type": "markdown",
   "metadata": {},
   "source": [
    "\n",
    "\n",
    "![](images/alpha-diversity-boxplot-healthy_phase7-vs-ibd_phase1.jpg)\n",
    "\n",
    "\n",
    "![](images/beta-diversity-boxplot-healthy_phase7-vs-ibd_phase1.jpg)"
   ]
  },
  {
   "cell_type": "markdown",
   "metadata": {},
   "source": [
    "## Taxonomic analysis\n",
    "\n",
    "In order to explore the taxonomic composition of the samples, we first assign taxonomy to the sequences using the trained classifier `gg-13-8-99-515-806-nb-classifier.qza` provided by QIIME. We can generate a visualization of the resulting mapping from sequence to taxonomy."
   ]
  },
  {
   "cell_type": "code",
   "execution_count": 41,
   "metadata": {},
   "outputs": [
    {
     "name": "stdout",
     "output_type": "stream",
     "text": [
      "Saved FeatureData[Taxonomy] to: mouse_set_taxonomy.qza\n"
     ]
    }
   ],
   "source": [
    "%%bash -e\n",
    "/usr/share/anaconda3/envs/qiime2-2019.1/bin/qiime feature-classifier classify-sklearn \\\n",
    "  --i-classifier gg-13-8-99-515-806-nb-classifier.qza \\\n",
    "  --i-reads mouse_set_data_merged-seqs.qza \\\n",
    "  --o-classification mouse_set_taxonomy.qza"
   ]
  },
  {
   "cell_type": "code",
   "execution_count": 45,
   "metadata": {},
   "outputs": [
    {
     "name": "stdout",
     "output_type": "stream",
     "text": [
      "Saved Visualization to: mouse_taxonomy.qzv\n"
     ]
    }
   ],
   "source": [
    "%%bash -e\n",
    "/usr/share/anaconda3/envs/qiime2-2019.1/bin/qiime metadata tabulate \\\n",
    "  --m-input-file mouse_set_taxonomy.qza \\\n",
    "  --o-visualization mouse_taxonomy.qzv"
   ]
  },
  {
   "cell_type": "code",
   "execution_count": 47,
   "metadata": {},
   "outputs": [
    {
     "name": "stdout",
     "output_type": "stream",
     "text": [
      "Saved Visualization to: mouse_taxa-bar-plots.qzv\n"
     ]
    }
   ],
   "source": [
    "%%bash -e\n",
    "/usr/share/anaconda3/envs/qiime2-2019.1/bin/qiime taxa barplot \\\n",
    "  --i-table mouse_set_data_merged.qza \\\n",
    "  --i-taxonomy mouse_set_taxonomy.qza \\\n",
    "  --m-metadata-file mouse_set_metadata.tsv \\\n",
    "  --o-visualization mouse_taxa-bar-plots.qzv"
   ]
  },
  {
   "cell_type": "markdown",
   "metadata": {},
   "source": [
    "The **dominant genus in the High Fat Diet phase is Akkermansia muciniphila**, a genus in the phylum Verrucomicrobia (Bacteria). Its relative frequency increased almost triple in some healthy mice. An increase is also observed in IBD mice, but to a lesser extend; the relative frequency only doubled here. It is worth noticing that mice with IBD fecal implant do have a higher relative frequency of Akkermansia in phase 1, prior to the high fat diet. Akkermansia is a gram-negative genus of Verrucomicrobia phylum, which abundance was found to be higher in IBD mice accross all phases of the experiment. Discovered in 2004, Akkermansia is currently being studied for its effects on human metabolism. Recently performed studies in rodents have indicated that Akkermansia muciniphila in the intestinal tract may reduce obesity, diabetes, and inflammation [source](https://www.ncbi.nlm.nih.gov/pmc/articles/PMC3670398/). It was found to be a mucin-degrading bacterium that resides in the mucus layer and its presence appears to be inversely correlated with body weight in rodents and humans. Akkermansia muciniphila administration increased the intestinal levels of endocannabinoids that control inflammation.\n",
    "\n",
    "We also observe that **Sutterella almost disappear from healthy mouse samples during high fat diet. Although its relative frequency slightly decreases in IBD samples, that genus remains more abundant in IBD mice compared to healthy mice.** Sutterella species have been frequently associated with human diseases, such as inflammatory bowel disease (IBD) [source](https://www.ncbi.nlm.nih.gov/pmc/articles/PMC5080374/). In the obese children, microbial assemblages were notably enriched in Sutterella [source](https://www.ncbi.nlm.nih.gov/pmc/articles/PMC5682041/). Another study on apoe-mice showed that the most enriched bacteria in low-fat diet are Sutterella [source](https://www.ncbi.nlm.nih.gov/pmc/articles/PMC4788960/). Atherosclerosis-prone apolipoprotein E-deficient (Apoe−/−) mice display poor lipoprotein clearance with subsequent accumulation of cholesterol ester-enriched particles in the blood, which promote the development of atherosclerotic plaques. \n",
    "\n",
    "![](images/taxa-bar-plot-highfatdiet.jpg)"
   ]
  },
  {
   "cell_type": "code",
   "execution_count": 298,
   "metadata": {},
   "outputs": [
    {
     "data": {
      "text/html": [
       "<div>\n",
       "<style scoped>\n",
       "    .dataframe tbody tr th:only-of-type {\n",
       "        vertical-align: middle;\n",
       "    }\n",
       "\n",
       "    .dataframe tbody tr th {\n",
       "        vertical-align: top;\n",
       "    }\n",
       "\n",
       "    .dataframe thead th {\n",
       "        text-align: right;\n",
       "    }\n",
       "</style>\n",
       "<table border=\"1\" class=\"dataframe\">\n",
       "  <thead>\n",
       "    <tr style=\"text-align: right;\">\n",
       "      <th></th>\n",
       "      <th>group</th>\n",
       "      <th>mouse</th>\n",
       "      <th>phase</th>\n",
       "      <th>day</th>\n",
       "      <th>hour</th>\n",
       "      <th>time_i</th>\n",
       "      <th>time_str</th>\n",
       "      <th>sample</th>\n",
       "      <th>otu</th>\n",
       "      <th>sequence</th>\n",
       "      <th>abundance</th>\n",
       "      <th>total_abundance</th>\n",
       "      <th>qpcr</th>\n",
       "      <th>mass</th>\n",
       "      <th>kingdom</th>\n",
       "      <th>phylum</th>\n",
       "      <th>class</th>\n",
       "      <th>order</th>\n",
       "      <th>family</th>\n",
       "      <th>genus</th>\n",
       "    </tr>\n",
       "  </thead>\n",
       "  <tbody>\n",
       "    <tr>\n",
       "      <th>4264</th>\n",
       "      <td>1</td>\n",
       "      <td>2</td>\n",
       "      <td>2</td>\n",
       "      <td>21PM</td>\n",
       "      <td>PM</td>\n",
       "      <td>21.5</td>\n",
       "      <td>21PM</td>\n",
       "      <td>2d21pm</td>\n",
       "      <td>OTU_23</td>\n",
       "      <td>TACGTAGGGTGCAAGCGTTAATCGGAATTACTGGGCGTAAAGCGTG...</td>\n",
       "      <td>0</td>\n",
       "      <td>74439</td>\n",
       "      <td>1.761752e+11</td>\n",
       "      <td>0</td>\n",
       "      <td>Bacteria</td>\n",
       "      <td>Proteobacteria</td>\n",
       "      <td>Betaproteobacteria</td>\n",
       "      <td>Burkholderiales</td>\n",
       "      <td>Sutterellaceae</td>\n",
       "      <td>Sutterella</td>\n",
       "    </tr>\n",
       "    <tr>\n",
       "      <th>4466</th>\n",
       "      <td>1</td>\n",
       "      <td>2</td>\n",
       "      <td>2</td>\n",
       "      <td>22</td>\n",
       "      <td>AM</td>\n",
       "      <td>22.0</td>\n",
       "      <td>22AM</td>\n",
       "      <td>2d22am</td>\n",
       "      <td>OTU_23</td>\n",
       "      <td>TACGTAGGGTGCAAGCGTTAATCGGAATTACTGGGCGTAAAGCGTG...</td>\n",
       "      <td>0</td>\n",
       "      <td>41293</td>\n",
       "      <td>1.000076e+11</td>\n",
       "      <td>0</td>\n",
       "      <td>Bacteria</td>\n",
       "      <td>Proteobacteria</td>\n",
       "      <td>Betaproteobacteria</td>\n",
       "      <td>Burkholderiales</td>\n",
       "      <td>Sutterellaceae</td>\n",
       "      <td>Sutterella</td>\n",
       "    </tr>\n",
       "    <tr>\n",
       "      <th>4668</th>\n",
       "      <td>1</td>\n",
       "      <td>2</td>\n",
       "      <td>2</td>\n",
       "      <td>22PM</td>\n",
       "      <td>PM</td>\n",
       "      <td>22.5</td>\n",
       "      <td>22PM</td>\n",
       "      <td>2d22pm</td>\n",
       "      <td>OTU_23</td>\n",
       "      <td>TACGTAGGGTGCAAGCGTTAATCGGAATTACTGGGCGTAAAGCGTG...</td>\n",
       "      <td>0</td>\n",
       "      <td>38264</td>\n",
       "      <td>1.241995e+11</td>\n",
       "      <td>0</td>\n",
       "      <td>Bacteria</td>\n",
       "      <td>Proteobacteria</td>\n",
       "      <td>Betaproteobacteria</td>\n",
       "      <td>Burkholderiales</td>\n",
       "      <td>Sutterellaceae</td>\n",
       "      <td>Sutterella</td>\n",
       "    </tr>\n",
       "    <tr>\n",
       "      <th>4870</th>\n",
       "      <td>1</td>\n",
       "      <td>2</td>\n",
       "      <td>2</td>\n",
       "      <td>23</td>\n",
       "      <td>AM</td>\n",
       "      <td>23.0</td>\n",
       "      <td>23AM</td>\n",
       "      <td>2d23am</td>\n",
       "      <td>OTU_23</td>\n",
       "      <td>TACGTAGGGTGCAAGCGTTAATCGGAATTACTGGGCGTAAAGCGTG...</td>\n",
       "      <td>0</td>\n",
       "      <td>27978</td>\n",
       "      <td>5.417197e+10</td>\n",
       "      <td>0</td>\n",
       "      <td>Bacteria</td>\n",
       "      <td>Proteobacteria</td>\n",
       "      <td>Betaproteobacteria</td>\n",
       "      <td>Burkholderiales</td>\n",
       "      <td>Sutterellaceae</td>\n",
       "      <td>Sutterella</td>\n",
       "    </tr>\n",
       "    <tr>\n",
       "      <th>5072</th>\n",
       "      <td>1</td>\n",
       "      <td>2</td>\n",
       "      <td>2</td>\n",
       "      <td>23PM</td>\n",
       "      <td>PM</td>\n",
       "      <td>23.5</td>\n",
       "      <td>23PM</td>\n",
       "      <td>2d23pm</td>\n",
       "      <td>OTU_23</td>\n",
       "      <td>TACGTAGGGTGCAAGCGTTAATCGGAATTACTGGGCGTAAAGCGTG...</td>\n",
       "      <td>0</td>\n",
       "      <td>25625</td>\n",
       "      <td>1.022820e+11</td>\n",
       "      <td>0</td>\n",
       "      <td>Bacteria</td>\n",
       "      <td>Proteobacteria</td>\n",
       "      <td>Betaproteobacteria</td>\n",
       "      <td>Burkholderiales</td>\n",
       "      <td>Sutterellaceae</td>\n",
       "      <td>Sutterella</td>\n",
       "    </tr>\n",
       "  </tbody>\n",
       "</table>\n",
       "</div>"
      ],
      "text/plain": [
       "     group mouse phase   day hour  time_i time_str  sample     otu  \\\n",
       "4264     1     2     2  21PM   PM    21.5     21PM  2d21pm  OTU_23   \n",
       "4466     1     2     2    22   AM    22.0     22AM  2d22am  OTU_23   \n",
       "4668     1     2     2  22PM   PM    22.5     22PM  2d22pm  OTU_23   \n",
       "4870     1     2     2    23   AM    23.0     23AM  2d23am  OTU_23   \n",
       "5072     1     2     2  23PM   PM    23.5     23PM  2d23pm  OTU_23   \n",
       "\n",
       "                                               sequence abundance  \\\n",
       "4264  TACGTAGGGTGCAAGCGTTAATCGGAATTACTGGGCGTAAAGCGTG...         0   \n",
       "4466  TACGTAGGGTGCAAGCGTTAATCGGAATTACTGGGCGTAAAGCGTG...         0   \n",
       "4668  TACGTAGGGTGCAAGCGTTAATCGGAATTACTGGGCGTAAAGCGTG...         0   \n",
       "4870  TACGTAGGGTGCAAGCGTTAATCGGAATTACTGGGCGTAAAGCGTG...         0   \n",
       "5072  TACGTAGGGTGCAAGCGTTAATCGGAATTACTGGGCGTAAAGCGTG...         0   \n",
       "\n",
       "      total_abundance          qpcr mass   kingdom          phylum  \\\n",
       "4264            74439  1.761752e+11    0  Bacteria  Proteobacteria   \n",
       "4466            41293  1.000076e+11    0  Bacteria  Proteobacteria   \n",
       "4668            38264  1.241995e+11    0  Bacteria  Proteobacteria   \n",
       "4870            27978  5.417197e+10    0  Bacteria  Proteobacteria   \n",
       "5072            25625  1.022820e+11    0  Bacteria  Proteobacteria   \n",
       "\n",
       "                   class            order          family       genus  \n",
       "4264  Betaproteobacteria  Burkholderiales  Sutterellaceae  Sutterella  \n",
       "4466  Betaproteobacteria  Burkholderiales  Sutterellaceae  Sutterella  \n",
       "4668  Betaproteobacteria  Burkholderiales  Sutterellaceae  Sutterella  \n",
       "4870  Betaproteobacteria  Burkholderiales  Sutterellaceae  Sutterella  \n",
       "5072  Betaproteobacteria  Burkholderiales  Sutterellaceae  Sutterella  "
      ]
     },
     "execution_count": 298,
     "metadata": {},
     "output_type": "execute_result"
    }
   ],
   "source": [
    "df_all[(df_all.genus=='Sutterella')&(df_all.phase==2)&(df_all.group==1)].head()"
   ]
  },
  {
   "cell_type": "code",
   "execution_count": 296,
   "metadata": {},
   "outputs": [
    {
     "data": {
      "text/html": [
       "<div>\n",
       "<style scoped>\n",
       "    .dataframe tbody tr th:only-of-type {\n",
       "        vertical-align: middle;\n",
       "    }\n",
       "\n",
       "    .dataframe tbody tr th {\n",
       "        vertical-align: top;\n",
       "    }\n",
       "\n",
       "    .dataframe thead th {\n",
       "        text-align: right;\n",
       "    }\n",
       "</style>\n",
       "<table border=\"1\" class=\"dataframe\">\n",
       "  <thead>\n",
       "    <tr style=\"text-align: right;\">\n",
       "      <th></th>\n",
       "      <th>group</th>\n",
       "      <th>mouse</th>\n",
       "      <th>phase</th>\n",
       "      <th>day</th>\n",
       "      <th>hour</th>\n",
       "      <th>time_i</th>\n",
       "      <th>time_str</th>\n",
       "      <th>sample</th>\n",
       "      <th>otu</th>\n",
       "      <th>sequence</th>\n",
       "      <th>abundance</th>\n",
       "      <th>total_abundance</th>\n",
       "      <th>qpcr</th>\n",
       "      <th>mass</th>\n",
       "      <th>kingdom</th>\n",
       "      <th>phylum</th>\n",
       "      <th>class</th>\n",
       "      <th>order</th>\n",
       "      <th>family</th>\n",
       "      <th>genus</th>\n",
       "    </tr>\n",
       "  </thead>\n",
       "  <tbody>\n",
       "    <tr>\n",
       "      <th>0</th>\n",
       "      <td>1</td>\n",
       "      <td>2</td>\n",
       "      <td>1</td>\n",
       "      <td>0</td>\n",
       "      <td>AM</td>\n",
       "      <td>0.0</td>\n",
       "      <td>0AM</td>\n",
       "      <td>2d0am</td>\n",
       "      <td>OTU_1</td>\n",
       "      <td>TACGGAGGATCCGAGCGTTATCCGGATTTATTGGGTTTAAAGGGAG...</td>\n",
       "      <td>1094</td>\n",
       "      <td>1094</td>\n",
       "      <td>8.724134e+06</td>\n",
       "      <td>3.25852e+06</td>\n",
       "      <td>Bacteria</td>\n",
       "      <td>Bacteroidetes</td>\n",
       "      <td>Bacteroidia</td>\n",
       "      <td>Bacteroidales</td>\n",
       "      <td>Bacteroidaceae</td>\n",
       "      <td>Bacteroides</td>\n",
       "    </tr>\n",
       "    <tr>\n",
       "      <th>1</th>\n",
       "      <td>1</td>\n",
       "      <td>2</td>\n",
       "      <td>1</td>\n",
       "      <td>0</td>\n",
       "      <td>AM</td>\n",
       "      <td>0.0</td>\n",
       "      <td>0AM</td>\n",
       "      <td>2d0am</td>\n",
       "      <td>OTU_2</td>\n",
       "      <td>TACGGAGGATCCGAGCGTTATCCGGATTTATTGGGTTTAAAGGGAG...</td>\n",
       "      <td>180</td>\n",
       "      <td>1274</td>\n",
       "      <td>8.724134e+06</td>\n",
       "      <td>536137</td>\n",
       "      <td>Bacteria</td>\n",
       "      <td>Bacteroidetes</td>\n",
       "      <td>Bacteroidia</td>\n",
       "      <td>Bacteroidales</td>\n",
       "      <td>Bacteroidaceae</td>\n",
       "      <td>Bacteroides</td>\n",
       "    </tr>\n",
       "    <tr>\n",
       "      <th>2</th>\n",
       "      <td>1</td>\n",
       "      <td>2</td>\n",
       "      <td>1</td>\n",
       "      <td>0</td>\n",
       "      <td>AM</td>\n",
       "      <td>0.0</td>\n",
       "      <td>0AM</td>\n",
       "      <td>2d0am</td>\n",
       "      <td>OTU_3</td>\n",
       "      <td>TACAGAGGTCTCAAGCGTTGTTCGGAATCACTGGGCGTAAAGCGTG...</td>\n",
       "      <td>10</td>\n",
       "      <td>1284</td>\n",
       "      <td>8.724134e+06</td>\n",
       "      <td>29785.4</td>\n",
       "      <td>Bacteria</td>\n",
       "      <td>Verrucomicrobia</td>\n",
       "      <td>Verrucomicrobiae</td>\n",
       "      <td>Verrucomicrobiales</td>\n",
       "      <td>Verrucomicrobiaceae</td>\n",
       "      <td>Akkermansia</td>\n",
       "    </tr>\n",
       "    <tr>\n",
       "      <th>3</th>\n",
       "      <td>1</td>\n",
       "      <td>2</td>\n",
       "      <td>1</td>\n",
       "      <td>0</td>\n",
       "      <td>AM</td>\n",
       "      <td>0.0</td>\n",
       "      <td>0AM</td>\n",
       "      <td>2d0am</td>\n",
       "      <td>OTU_4</td>\n",
       "      <td>TACGGAGGATCCGAGCGTTATCCGGATTTATTGGGTTTAAAGGGAG...</td>\n",
       "      <td>3</td>\n",
       "      <td>1287</td>\n",
       "      <td>8.724134e+06</td>\n",
       "      <td>8935.61</td>\n",
       "      <td>Bacteria</td>\n",
       "      <td>Bacteroidetes</td>\n",
       "      <td>Bacteroidia</td>\n",
       "      <td>Bacteroidales</td>\n",
       "      <td>Bacteroidaceae</td>\n",
       "      <td>Bacteroides</td>\n",
       "    </tr>\n",
       "    <tr>\n",
       "      <th>4</th>\n",
       "      <td>1</td>\n",
       "      <td>2</td>\n",
       "      <td>1</td>\n",
       "      <td>0</td>\n",
       "      <td>AM</td>\n",
       "      <td>0.0</td>\n",
       "      <td>0AM</td>\n",
       "      <td>2d0am</td>\n",
       "      <td>OTU_5</td>\n",
       "      <td>TACAGAGGTCTCAAGCGTTGTTCGGAATCACTGGGCGTAAAGCGTG...</td>\n",
       "      <td>6</td>\n",
       "      <td>1293</td>\n",
       "      <td>8.724134e+06</td>\n",
       "      <td>17871.2</td>\n",
       "      <td>Bacteria</td>\n",
       "      <td>Verrucomicrobia</td>\n",
       "      <td>Verrucomicrobiae</td>\n",
       "      <td>Verrucomicrobiales</td>\n",
       "      <td>Verrucomicrobiaceae</td>\n",
       "      <td>Akkermansia</td>\n",
       "    </tr>\n",
       "  </tbody>\n",
       "</table>\n",
       "</div>"
      ],
      "text/plain": [
       "  group mouse phase day hour  time_i time_str sample    otu  \\\n",
       "0     1     2     1   0   AM     0.0      0AM  2d0am  OTU_1   \n",
       "1     1     2     1   0   AM     0.0      0AM  2d0am  OTU_2   \n",
       "2     1     2     1   0   AM     0.0      0AM  2d0am  OTU_3   \n",
       "3     1     2     1   0   AM     0.0      0AM  2d0am  OTU_4   \n",
       "4     1     2     1   0   AM     0.0      0AM  2d0am  OTU_5   \n",
       "\n",
       "                                            sequence abundance  \\\n",
       "0  TACGGAGGATCCGAGCGTTATCCGGATTTATTGGGTTTAAAGGGAG...      1094   \n",
       "1  TACGGAGGATCCGAGCGTTATCCGGATTTATTGGGTTTAAAGGGAG...       180   \n",
       "2  TACAGAGGTCTCAAGCGTTGTTCGGAATCACTGGGCGTAAAGCGTG...        10   \n",
       "3  TACGGAGGATCCGAGCGTTATCCGGATTTATTGGGTTTAAAGGGAG...         3   \n",
       "4  TACAGAGGTCTCAAGCGTTGTTCGGAATCACTGGGCGTAAAGCGTG...         6   \n",
       "\n",
       "   total_abundance          qpcr         mass   kingdom           phylum  \\\n",
       "0             1094  8.724134e+06  3.25852e+06  Bacteria    Bacteroidetes   \n",
       "1             1274  8.724134e+06       536137  Bacteria    Bacteroidetes   \n",
       "2             1284  8.724134e+06      29785.4  Bacteria  Verrucomicrobia   \n",
       "3             1287  8.724134e+06      8935.61  Bacteria    Bacteroidetes   \n",
       "4             1293  8.724134e+06      17871.2  Bacteria  Verrucomicrobia   \n",
       "\n",
       "              class               order               family        genus  \n",
       "0       Bacteroidia       Bacteroidales       Bacteroidaceae  Bacteroides  \n",
       "1       Bacteroidia       Bacteroidales       Bacteroidaceae  Bacteroides  \n",
       "2  Verrucomicrobiae  Verrucomicrobiales  Verrucomicrobiaceae  Akkermansia  \n",
       "3       Bacteroidia       Bacteroidales       Bacteroidaceae  Bacteroides  \n",
       "4  Verrucomicrobiae  Verrucomicrobiales  Verrucomicrobiaceae  Akkermansia  "
      ]
     },
     "execution_count": 296,
     "metadata": {},
     "output_type": "execute_result"
    }
   ],
   "source": [
    "df_all.head()"
   ]
  },
  {
   "cell_type": "code",
   "execution_count": 311,
   "metadata": {},
   "outputs": [],
   "source": [
    "df_all.mass = df_all.mass.astype(float)"
   ]
  },
  {
   "cell_type": "code",
   "execution_count": 320,
   "metadata": {},
   "outputs": [
    {
     "data": {
      "image/png": "[encoded data removed]",
      "text/plain": [
       "<Figure size 720x360 with 1 Axes>"
      ]
     },
     "metadata": {
      "needs_background": "light"
     },
     "output_type": "display_data"
    }
   ],
   "source": [
    "f, ax = plt.subplots(1,1,figsize=(10,5))\n",
    "sns.lineplot(x=\"time_i\", y=\"abundance\",\n",
    "             data=df_all[(df_all.genus=='Akkermansia')&(df_all.group==1)], ax=ax, color='green', label='Healthy')\n",
    "sns.lineplot(x=\"time_i\", y=\"abundance\",\n",
    "             data=df_all[(df_all.genus=='Akkermansia')&(df_all.group==2)], ax=ax, color='red', label='IBD')\n",
    "ax.set_ylabel('average abundance')\n",
    "ax.set_title('Akkermansia muciniphila abundance')\n",
    "ax.axvspan(21.5, 28.5, alpha=0.2, color='yellow')\n",
    "ax.axvspan(35.5, 42.5, alpha=0.1, color='blue')\n",
    "ax.axvspan(50.5, 57.5, alpha=0.2, color='pink')\n",
    "ax.axvspan(21.5, 28.5, alpha=0.2, color='yellow')\n",
    "ax.axvspan(35.5, 42.5, alpha=0.1, color='blue')\n",
    "ax.axvspan(50.5, 57.5, alpha=0.2, color='pink')\n",
    "ax.set_yscale('log')"
   ]
  },
  {
   "cell_type": "code",
   "execution_count": 315,
   "metadata": {},
   "outputs": [
    {
     "data": {
      "text/plain": [
       "<matplotlib.patches.Polygon at 0x7f30f27295f8>"
      ]
     },
     "execution_count": 315,
     "metadata": {},
     "output_type": "execute_result"
    },
    {
     "data": {
      "image/png": "[encoded data removed]",
      "text/plain": [
       "<Figure size 720x360 with 1 Axes>"
      ]
     },
     "metadata": {
      "needs_background": "light"
     },
     "output_type": "display_data"
    }
   ],
   "source": [
    "f, ax = plt.subplots(1,1,figsize=(10,5))\n",
    "sns.lineplot(x=\"time_i\", y=\"abundance\",\n",
    "             data=df_all[(df_all.genus=='Sutterella')&(df_all.group==1)], ax=ax, color='green', label='Healthy')\n",
    "sns.lineplot(x=\"time_i\", y=\"abundance\",\n",
    "             data=df_all[(df_all.genus=='Sutterella')&(df_all.group==2)], ax=ax, color='red', label='IBD')\n",
    "ax.set_ylabel('average abundance')\n",
    "ax.set_title('Sutterella abundance')\n",
    "ax.axvspan(21.5, 28.5, alpha=0.2, color='yellow')\n",
    "ax.axvspan(35.5, 42.5, alpha=0.1, color='blue')\n",
    "ax.axvspan(50.5, 57.5, alpha=0.2, color='pink')\n",
    "ax.axvspan(21.5, 28.5, alpha=0.2, color='yellow')\n",
    "ax.axvspan(35.5, 42.5, alpha=0.1, color='blue')\n",
    "ax.axvspan(50.5, 57.5, alpha=0.2, color='pink')"
   ]
  },
  {
   "cell_type": "markdown",
   "metadata": {},
   "source": [
    "[ANCOM](https://www.ncbi.nlm.nih.gov/pubmed/26028277) can be applied to identify features that are differentially abundant accross phases (for example phase 1, before the first pertubation in the experiment)."
   ]
  },
  {
   "cell_type": "code",
   "execution_count": null,
   "metadata": {},
   "outputs": [],
   "source": []
  },
  {
   "cell_type": "code",
   "execution_count": 49,
   "metadata": {},
   "outputs": [
    {
     "name": "stdout",
     "output_type": "stream",
     "text": [
      "Saved FeatureTable[Frequency] to: phase_1-table.qza\n",
      "Saved FeatureTable[Composition] to: comp-phase_1-table.qza\n",
      "Saved Visualization to: ancom-phase1-Group.qzv\n"
     ]
    }
   ],
   "source": [
    "%%bash -e\n",
    "/usr/share/anaconda3/envs/qiime2-2019.1/bin/qiime feature-table filter-samples \\\n",
    "  --i-table mouse_set_data_merged.qza \\\n",
    "  --m-metadata-file mouse_set_metadata.tsv \\\n",
    "  --p-where \"phase='phase_1'\" \\\n",
    "  --o-filtered-table phase_1-table.qza\n",
    "  \n",
    "/usr/share/anaconda3/envs/qiime2-2019.1/bin/qiime composition add-pseudocount \\\n",
    "  --i-table phase_1-table.qza \\\n",
    "  --o-composition-table comp-phase_1-table.qza\n",
    "  \n",
    "/usr/share/anaconda3/envs/qiime2-2019.1/bin/qiime composition ancom \\\n",
    "  --i-table comp-phase_1-table.qza \\\n",
    "  --m-metadata-file mouse_set_metadata.tsv \\\n",
    "  --m-metadata-column group \\\n",
    "  --o-visualization ancom-phase1-Group.qzv"
   ]
  },
  {
   "cell_type": "markdown",
   "metadata": {},
   "source": [
    "The results below shows how sequence variants differ in abundance across healthy and disease mice in the absense of environmental pertubation.\n",
    "\n",
    "**Bacteroides (OTU_11, OTU_9), Faecalibacterium (OTU_39), Sutterella (OTU_23), Akkermansia (OTU_3), Coprococcus (OTU_28) is more abundant in IBD mice during baseline phase (without environmental pertubation)**.\n",
    "\n",
    "![](images/differential_abundance_phase1.jpg)"
   ]
  },
  {
   "cell_type": "markdown",
   "metadata": {},
   "source": [
    "A differential abundance test at the genus taxonomic level is performed below."
   ]
  },
  {
   "cell_type": "code",
   "execution_count": 51,
   "metadata": {},
   "outputs": [
    {
     "name": "stdout",
     "output_type": "stream",
     "text": [
      "Saved FeatureTable[Frequency] to: phase_1-table-l6.qza\n",
      "Saved FeatureTable[Composition] to: comp-phase_1-table-l6.qza\n",
      "Saved Visualization to: l6-ancom-Phase.qzv\n"
     ]
    }
   ],
   "source": [
    "%%bash -e\n",
    "/usr/share/anaconda3/envs/qiime2-2019.1/bin/qiime taxa collapse \\\n",
    "  --i-table phase_1-table.qza \\\n",
    "  --i-taxonomy mouse_set_taxonomy.qza \\\n",
    "  --p-level 6 \\\n",
    "  --o-collapsed-table phase_1-table-l6.qza\n",
    "\n",
    "/usr/share/anaconda3/envs/qiime2-2019.1/bin/qiime composition add-pseudocount \\\n",
    "  --i-table phase_1-table-l6.qza \\\n",
    "  --o-composition-table comp-phase_1-table-l6.qza\n",
    "\n",
    "/usr/share/anaconda3/envs/qiime2-2019.1/bin/qiime composition ancom \\\n",
    "  --i-table comp-phase_1-table-l6.qza \\\n",
    "  --m-metadata-file mouse_set_metadata.tsv \\\n",
    "  --m-metadata-column group \\\n",
    "  --o-visualization l6-ancom-Phase.qzv"
   ]
  },
  {
   "cell_type": "markdown",
   "metadata": {},
   "source": [
    "**Paraprevotella, Phascolarctobacterium are abundant in healthy mice, although almost absent in IBD mice.**\n",
    "\n",
    "![](images/differential_abundance_phase1_level6.jpg)"
   ]
  },
  {
   "cell_type": "markdown",
   "metadata": {},
   "source": [
    "We can view the phylogenetic tree by executing the following steps:\n",
    "\n",
    "- open the rooted phylogenetic tree `mouse_set_data_merged-rooted-tree.qza` on https://itol.embl.de \n",
    "- drag-drop the `mouse_set_taxonomy.qza` to the viewer.\n",
    "\n",
    "![](images/phylogenetic-tree.jpg)"
   ]
  },
  {
   "cell_type": "markdown",
   "metadata": {},
   "source": [
    "## Longitudinal analysis\n",
    "\n",
    "Linear mixed effects (LME) model tests the relationship between Shannon diversity and health status."
   ]
  },
  {
   "cell_type": "code",
   "execution_count": 78,
   "metadata": {},
   "outputs": [
    {
     "name": "stdout",
     "output_type": "stream",
     "text": [
      "Saved Visualization to: mouse_linear-mixed-effects.qzv\n"
     ]
    }
   ],
   "source": [
    "%%bash -e\n",
    "/usr/share/anaconda3/envs/qiime2-2019.1/bin/qiime longitudinal linear-mixed-effects \\\n",
    "  --m-metadata-file mouse_set_metadata.tsv \\\n",
    "  --m-metadata-file mouse-core-metrics-results/shannon_vector.qza \\\n",
    "  --p-metric shannon \\\n",
    "  --p-group-columns group \\\n",
    "  --p-state-column day \\\n",
    "  --p-individual-id-column mouse \\\n",
    "  --o-visualization mouse_linear-mixed-effects.qzv"
   ]
  },
  {
   "cell_type": "markdown",
   "metadata": {},
   "source": [
    "![](images/linear-mixed-effects.jpg)"
   ]
  },
  {
   "cell_type": "markdown",
   "metadata": {},
   "source": [
    "In order to assess how volatile the alpha & beta diversity is over time in healthy and IBD groups, we perform valatility analysis below."
   ]
  },
  {
   "cell_type": "code",
   "execution_count": 89,
   "metadata": {},
   "outputs": [
    {
     "name": "stdout",
     "output_type": "stream",
     "text": [
      "Saved Visualization to: mouse-group-volatility.qzv\n"
     ]
    }
   ],
   "source": [
    "%%bash -e\n",
    "/usr/share/anaconda3/envs/qiime2-2019.1/bin/qiime longitudinal volatility \\\n",
    "  --m-metadata-file mouse_set_metadata.tsv \\\n",
    "  --m-metadata-file mouse-core-metrics-results/shannon_vector.qza \\\n",
    "  --m-metadata-file mouse-core-metrics-results/observed_otus_vector.qza \\\n",
    "  --m-metadata-file mouse-core-metrics-results/faith_pd_vector.qza \\\n",
    "  --m-metadata-file mouse-core-metrics-results/evenness_vector.qza \\\n",
    "  --p-default-metric shannon \\\n",
    "  --p-default-group-column group \\\n",
    "  --p-state-column day \\\n",
    "  --p-individual-id-column mouse \\\n",
    "  --o-visualization mouse-group-volatility.qzv"
   ]
  },
  {
   "cell_type": "markdown",
   "metadata": {},
   "source": [
    "![](images/volatility-control-chart-full.jpg)"
   ]
  },
  {
   "cell_type": "markdown",
   "metadata": {},
   "source": [
    "## Compositional Analysis\n",
    "\n",
    "The relationship between absolute abundance in the environment and the relative abundance after sequencing is not predictable [source](https://www.frontiersin.org/articles/10.3389/fmicb.2017.02224/full). Furthermore it is very difficult to collect exactly the same number of sequence reads for each sample, because of differences in platform  or because of technical difficulties in loading the same molar amounts of the sequencing libraries on the instrument, or because of random variation. Data that are naturally described as proportions or probabilities, or with a constant or irrelevant sum, are referred to as compositional data. Compositional data contains information about the relationships between the parts.\n",
    "\n",
    "Three distance matrices dominate the literature: UniFrac, Bray-Curtis and Jensen-Shannon divergence. They do not account for the compositional nature of the data. They are sensitive to the total read depth of a sample, and largely discriminate between samples based on the most relatively abundant features in the samples, not on the features that are necessarily the most variable between samples.\n",
    "\n",
    "Beta diversity is the ratio between regional and local species diversity. Compositional beta diversity captures changes in community composition [source] (https://www.frontiersin.org/articles/10.3389/fmicb.2018.01037/full). There are many beta diversity metrics that have been proposed, all with varying benefits on varying data structures [source](https://www.ncbi.nlm.nih.gov/pmc/articles/PMC5972327/). However, presence/absence metric often prove to give better results than those that rely on abundances. One solution to this problem is to use a compositional distance metric such as Aitchison distance. \n",
    "\n",
    "### Compositional analysis between experimental phases\n",
    "\n",
    "Below we perform Robust Aitchison PCA through QIIME separetely on data from IBD and healthy mice.\n",
    "\n",
    "Within the QIIME conda environment, we first install the QIIME [DEICODE plugin](https://library.qiime2.org/plugins/deicode/19/) by running the following command:\n",
    "\n",
    "`pip install deicode`\n",
    "\n",
    "DEICODE implements Aitchison Distance that is robust to high levels of sparsity. \n",
    "\n",
    "C. Martino et al., A Novel Sparse Compositional Technique Reveals Microbial Perturbations. mSystems. 4 (2019), doi:10.1128/mSystems.00016-19."
   ]
  },
  {
   "cell_type": "code",
   "execution_count": 231,
   "metadata": {},
   "outputs": [
    {
     "name": "stdout",
     "output_type": "stream",
     "text": [
      "Saved PCoAResults % Properties(['biplot']) to: mouse-ordination-ibd.qza\n",
      "Saved DistanceMatrix to: mouse-distance-ibd.qza\n",
      "Saved Visualization to: mouse-biplot-ibd.qzv\n",
      "Saved PCoAResults % Properties(['biplot']) to: mouse-ordination-healthy.qza\n",
      "Saved DistanceMatrix to: mouse-distance-healthy.qza\n",
      "Saved Visualization to: mouse-biplot-healthy.qzv\n"
     ]
    }
   ],
   "source": [
    "%%bash\n",
    "/usr/share/anaconda3/envs/qiime2-2019.1/bin/qiime deicode rpca \\\n",
    "    --i-table mouse_set_data_merged-IBD.qza \\\n",
    "    --p-min-feature-count 10 \\\n",
    "    --p-min-sample-count 500 \\\n",
    "    --o-biplot mouse-ordination-ibd.qza \\\n",
    "    --o-distance-matrix mouse-distance-ibd.qza\n",
    "\n",
    "/usr/share/anaconda3/envs/qiime2-2019.1/bin/qiime emperor biplot \\\n",
    "    --i-biplot mouse-ordination-ibd.qza \\\n",
    "    --m-sample-metadata-file mouse_set_metadata.tsv \\\n",
    "    --m-feature-metadata-file mouse_set_taxonomy.qza \\\n",
    "    --o-visualization mouse-biplot-ibd.qzv \\\n",
    "    --p-number-of-features 8\n",
    "    \n",
    "/usr/share/anaconda3/envs/qiime2-2019.1/bin/qiime deicode rpca \\\n",
    "    --i-table mouse_set_data_merged-Healthy.qza \\\n",
    "    --p-min-feature-count 10 \\\n",
    "    --p-min-sample-count 500 \\\n",
    "    --o-biplot mouse-ordination-healthy.qza \\\n",
    "    --o-distance-matrix mouse-distance-healthy.qza\n",
    "\n",
    "/usr/share/anaconda3/envs/qiime2-2019.1/bin/qiime emperor biplot \\\n",
    "    --i-biplot mouse-ordination-healthy.qza \\\n",
    "    --m-sample-metadata-file mouse_set_metadata.tsv \\\n",
    "    --m-feature-metadata-file mouse_set_taxonomy.qza \\\n",
    "    --o-visualization mouse-biplot-healthy.qzv \\\n",
    "    --p-number-of-features 8"
   ]
  },
  {
   "cell_type": "markdown",
   "metadata": {},
   "source": [
    "We additionally run PERMANOVA on the distances to get a statistical significance. "
   ]
  },
  {
   "cell_type": "code",
   "execution_count": 233,
   "metadata": {},
   "outputs": [
    {
     "name": "stdout",
     "output_type": "stream",
     "text": [
      "Saved Visualization to: mouse-distance-ibd_significance.qzv\n",
      "Saved Visualization to: mouse-distance-healthy_significance.qzv\n"
     ]
    }
   ],
   "source": [
    " %%bash\n",
    "/usr/share/anaconda3/envs/qiime2-2019.1/bin/qiime diversity beta-group-significance \\\n",
    "    --i-distance-matrix mouse-distance-ibd.qza \\\n",
    "    --m-metadata-file mouse_set_metadata.tsv \\\n",
    "    --m-metadata-column phase \\\n",
    "    --p-method permanova \\\n",
    "    --o-visualization mouse-distance-ibd_significance.qzv\n",
    "\n",
    "/usr/share/anaconda3/envs/qiime2-2019.1/bin/qiime diversity beta-group-significance \\\n",
    "    --i-distance-matrix mouse-distance-healthy.qza \\\n",
    "    --m-metadata-file mouse_set_metadata.tsv \\\n",
    "    --m-metadata-column phase \\\n",
    "    --p-method permanova \\\n",
    "    --o-visualization mouse-distance-healthy_significance.qzv"
   ]
  },
  {
   "cell_type": "markdown",
   "metadata": {},
   "source": [
    "Below we can see a Biplot that allows us to represent the features that strongly influence the principal component axis as arrows. The log ratio between features is represented by arrows pointing in different directions. From this visualization we noticed that the experimental phase seems to explain two clusters well. The baseline phase 1 together with high-fat diet (phase 2) and the following washout phase 3 form the first big cluster. The antibiotic phases 4 and 6 together with their corresponding washout periods build the second big cluster. **The genus Blautia (Lachnospiraceae) significantly (PERMANOVA, pseudo-F, p<0.001) impacts the bacterial composition under antibiotics in IBD mice.**\n",
    "\n",
    "![](images/biplot-mouse-ibd-phase.jpg)\n",
    "\n",
    "**The genus Ovatus, Uniformis, Escherichia/Shigella significantly (PERMANOVA, pseudo-F, p<0.001) influence composition on healthy individuals, but not on IBD mice**\n",
    "\n",
    "![](images/biplot-mouse-healthy-phase.jpg)\n",
    "\n",
    "**Sutterella, Clostridium, Muciniphila, Hathewayi and Bacteroides appear on both IBD and healthy mice, as factors of significant compositional diversity between phases.**"
   ]
  },
  {
   "cell_type": "markdown",
   "metadata": {},
   "source": [
    "### Compositional analysis between healthy and IBD mice in baseline phase 1\n",
    "\n",
    "Below we perform Robust Aitchison PCA analysis on all samples measured on all mice (healthy and IBD) during the baseline phase, prior to pertubation. We are interested in identifying species which explain most of the differential bacterial composition at rest.\n"
   ]
  },
  {
   "cell_type": "code",
   "execution_count": 235,
   "metadata": {},
   "outputs": [
    {
     "name": "stdout",
     "output_type": "stream",
     "text": [
      "Saved FeatureTable[Frequency] to: mouse_set_data_merged-Phase1.qza\n",
      "Saved PCoAResults % Properties(['biplot']) to: mouse-ordination-Phase1.qza\n",
      "Saved DistanceMatrix to: mouse-distance-Phase1.qza\n",
      "Saved Visualization to: mouse-biplot-Phase1.qzv\n"
     ]
    }
   ],
   "source": [
    "%%bash -e\n",
    "/usr/share/anaconda3/envs/qiime2-2019.1/bin/qiime feature-table filter-samples \\\n",
    "  --i-table mouse_set_data_merged.qza \\\n",
    "  --m-metadata-file mouse_set_metadata.tsv \\\n",
    "  --p-where \"phase='phase_1'\" \\\n",
    "  --o-filtered-table mouse_set_data_merged-Phase1.qza\n",
    "  \n",
    "/usr/share/anaconda3/envs/qiime2-2019.1/bin/qiime deicode rpca \\\n",
    "    --i-table mouse_set_data_merged-Phase1.qza \\\n",
    "    --p-min-feature-count 10 \\\n",
    "    --p-min-sample-count 500 \\\n",
    "    --o-biplot mouse-ordination-Phase1.qza \\\n",
    "    --o-distance-matrix mouse-distance-Phase1.qza\n",
    "\n",
    "/usr/share/anaconda3/envs/qiime2-2019.1/bin/qiime emperor biplot \\\n",
    "    --i-biplot mouse-ordination-Phase1.qza \\\n",
    "    --m-sample-metadata-file mouse_set_metadata.tsv \\\n",
    "    --m-feature-metadata-file mouse_set_taxonomy.qza \\\n",
    "    --o-visualization mouse-biplot-Phase1.qzv \\\n",
    "    --p-number-of-features 8"
   ]
  },
  {
   "cell_type": "markdown",
   "metadata": {},
   "source": [
    "The biplot below shows a clear separation between healthy and IBD mice clusters. Outliers building the third cluster are all from samples taken on day 0 and day 1. This result suggests to remove both days from our analysis, as they do not significantly contribute in distinguishing disease from healthy mice. \n",
    "\n",
    "Next to the dominant Bacteroides genus (species Ovatus, uniformis), **the composition of following genus are found to clearly differenciate healthy from IBD mice in the baseline phase: Parasutterella, Escherichia/Shigella, Akkermansia.**\n",
    "\n",
    "![](images/biplot-mouse-phase1.jpg)"
   ]
  },
  {
   "cell_type": "markdown",
   "metadata": {},
   "source": [
    "## Features Importance\n",
    "\n",
    "Supervised learning classifiers predict the categorical metadata classes of unlabeled samples by learning the composition of labeled training samples. Below we predict the experimental phase (baseline, high-fat diet, gram- antibiotics, gram+ antibiotics or washout) based on stool microbiome composition in IBD mice. A RandomForest classifier is used, with 20 trees. 5-fold cross-validation is performed during automatic feature selection."
   ]
  },
  {
   "cell_type": "code",
   "execution_count": 229,
   "metadata": {},
   "outputs": [
    {
     "name": "stdout",
     "output_type": "stream",
     "text": [
      "Saved FeatureTable[Frequency] to: mouse_set_data_merged-IBD.qza\n",
      "Saved FeatureTable[Frequency] to: mouse_set_data_merged-Healthy.qza\n"
     ]
    }
   ],
   "source": [
    "%%bash -e\n",
    "/usr/share/anaconda3/envs/qiime2-2019.1/bin/qiime feature-table filter-samples \\\n",
    "  --i-table mouse_set_data_merged.qza \\\n",
    "  --m-metadata-file mouse_set_metadata.tsv \\\n",
    "  --p-where \"mouse in ('mouse_06','mouse_07','mouse_08','mouse_09','mouse_10')\" \\\n",
    "  --o-filtered-table mouse_set_data_merged-IBD.qza\n",
    "  \n",
    "/usr/share/anaconda3/envs/qiime2-2019.1/bin/qiime feature-table filter-samples \\\n",
    "  --i-table mouse_set_data_merged.qza \\\n",
    "  --m-metadata-file mouse_set_metadata.tsv \\\n",
    "  --p-where \"mouse in ('mouse_02','mouse_03','mouse_04','mouse_05')\" \\\n",
    "  --o-filtered-table mouse_set_data_merged-Healthy.qza"
   ]
  },
  {
   "cell_type": "code",
   "execution_count": 121,
   "metadata": {},
   "outputs": [
    {
     "name": "stdout",
     "output_type": "stream",
     "text": [
      "Saved SampleEstimator[Classifier] to: mouse-IBD-classifier/sample_estimator.qza\n",
      "Saved FeatureData[Importance] to: mouse-IBD-classifier/feature_importance.qza\n",
      "Saved SampleData[ClassifierPredictions] to: mouse-IBD-classifier/predictions.qza\n",
      "Saved Visualization to: mouse-IBD-classifier/model_summary.qzv\n",
      "Saved Visualization to: mouse-IBD-classifier/accuracy_results.qzv\n"
     ]
    }
   ],
   "source": [
    "%%bash -e\n",
    "/usr/share/anaconda3/envs/qiime2-2019.1/bin/qiime sample-classifier classify-samples \\\n",
    "  --i-table mouse_set_data_merged-IBD.qza \\\n",
    "  --m-metadata-file mouse_set_metadata.tsv \\\n",
    "  --m-metadata-column phase \\\n",
    "  --p-optimize-feature-selection \\\n",
    "  --p-parameter-tuning \\\n",
    "  --p-estimator RandomForestClassifier \\\n",
    "  --p-n-estimators 20 \\\n",
    "  --p-random-state 123 \\\n",
    "  --output-dir mouse-IBD-classifier\n",
    "  \n",
    "/usr/share/anaconda3/envs/qiime2-2019.1/bin/qiime feature-table filter-features \\\n",
    "  --i-table mouse_set_data_merged-IBD.qza \\\n",
    "  --m-metadata-file mouse-IBD-classifier/feature_importance.qza \\\n",
    "  --o-filtered-table mouse-IBD-classifier/important-feature-table.qza\n",
    "  \n",
    "/usr/share/anaconda3/envs/qiime2-2019.1/bin/qiime metadata tabulate \\\n",
    "  --m-input-file mouse-IBD-classifier/feature_importance.qza \\\n",
    "  --o-visualization mouse-IBD-classifier/feature_importance.qzv\n",
    "  \n",
    "/usr/share/anaconda3/envs/qiime2-2019.1/bin/qiime metadata tabulate \\\n",
    "  --m-input-file mouse-IBD-classifier/important-feature-table.qza \\\n",
    "  --o-visualization mouse-IBD-classifier/important-feature-table.qzv"
   ]
  },
  {
   "cell_type": "markdown",
   "metadata": {},
   "source": [
    "Overall accuracy is 94.52%. \n",
    "![](images/classifier-accuracy-phase-IBD.jpg)\n",
    "\n",
    "**The most important features affected by environmental pertubation in IBD mice are the following genus: Blautia (OTU_49, OTU_33), Faecalibacterium (OTU_39), Ruminococcus (OTU_112), Clostridium_XlVa (OTU_185,OTU_43, OTU_45)**\n",
    "![](images/classifier-features-importance-phase-IBD.jpg)"
   ]
  },
  {
   "cell_type": "markdown",
   "metadata": {},
   "source": [
    "Below we run a randomforest classifier on samples recorded in phase 4 where mice were given Gram+ ABX antibiotics. The predicted variable is the health status. Features are OTUs.\n",
    "\n",
    "**We obtain 100% classification accuracy, with the following genus being those which differenciate healthy mice from IBD mice under Gram+ ABX treatement with the highest significance: Bacteroides (OTU_36, OTU_12), Phascolarctobacterium(OTU_17), Parabacteroides (OTU_16), Bilophila (OTU_24).**"
   ]
  },
  {
   "cell_type": "code",
   "execution_count": 135,
   "metadata": {},
   "outputs": [
    {
     "name": "stdout",
     "output_type": "stream",
     "text": [
      "Saved FeatureTable[Frequency] to: mouse_set_data_merged-Phase4.qza\n",
      "Saved SampleEstimator[Classifier] to: mouse-Phase4-classifier/sample_estimator.qza\n",
      "Saved FeatureData[Importance] to: mouse-Phase4-classifier/feature_importance.qza\n",
      "Saved SampleData[ClassifierPredictions] to: mouse-Phase4-classifier/predictions.qza\n",
      "Saved Visualization to: mouse-Phase4-classifier/model_summary.qzv\n",
      "Saved Visualization to: mouse-Phase4-classifier/accuracy_results.qzv\n",
      "Saved FeatureTable[Frequency] to: mouse-Phase4-classifier/important-feature-table.qza\n",
      "Saved Visualization to: mouse-Phase4-classifier/feature_importance.qzv\n"
     ]
    }
   ],
   "source": [
    "%%bash -e\n",
    "/usr/share/anaconda3/envs/qiime2-2019.1/bin/qiime feature-table filter-samples \\\n",
    "  --i-table mouse_set_data_merged.qza \\\n",
    "  --m-metadata-file mouse_set_metadata.tsv \\\n",
    "  --p-where \"phase='phase_4'\" \\\n",
    "  --o-filtered-table mouse_set_data_merged-Phase4.qza\n",
    "  \n",
    "/usr/share/anaconda3/envs/qiime2-2019.1/bin/qiime sample-classifier classify-samples \\\n",
    "  --i-table mouse_set_data_merged-Phase4.qza \\\n",
    "  --m-metadata-file mouse_set_metadata.tsv \\\n",
    "  --m-metadata-column group \\\n",
    "  --p-optimize-feature-selection \\\n",
    "  --p-parameter-tuning \\\n",
    "  --p-estimator RandomForestClassifier \\\n",
    "  --p-n-estimators 20 \\\n",
    "  --p-random-state 123 \\\n",
    "  --output-dir mouse-Phase4-classifier\n",
    "  \n",
    "/usr/share/anaconda3/envs/qiime2-2019.1/bin/qiime feature-table filter-features \\\n",
    "  --i-table mouse_set_data_merged-Phase4.qza \\\n",
    "  --m-metadata-file mouse-Phase4-classifier/feature_importance.qza \\\n",
    "  --o-filtered-table mouse-Phase4-classifier/important-feature-table.qza\n",
    "  \n",
    "/usr/share/anaconda3/envs/qiime2-2019.1/bin/qiime metadata tabulate \\\n",
    "  --m-input-file mouse-Phase4-classifier/feature_importance.qza \\\n",
    "  --o-visualization mouse-Phase4-classifier/feature_importance.qzv"
   ]
  },
  {
   "cell_type": "markdown",
   "metadata": {},
   "source": [
    "We build a similar classifier as above, this time in the Gram- ABX antibiotics treatement phase.\n",
    "\n",
    "**We obtain 93.33% classification accuracy, Blautia (OTU_88) is the only genus which differenciates healthy mice from IBD mice under Gram- ABX treatement with the highest significance.**"
   ]
  },
  {
   "cell_type": "code",
   "execution_count": 136,
   "metadata": {},
   "outputs": [
    {
     "name": "stdout",
     "output_type": "stream",
     "text": [
      "Saved FeatureTable[Frequency] to: mouse_set_data_merged-Phase6.qza\n",
      "Saved SampleEstimator[Classifier] to: mouse-Phase6-classifier/sample_estimator.qza\n",
      "Saved FeatureData[Importance] to: mouse-Phase6-classifier/feature_importance.qza\n",
      "Saved SampleData[ClassifierPredictions] to: mouse-Phase6-classifier/predictions.qza\n",
      "Saved Visualization to: mouse-Phase6-classifier/model_summary.qzv\n",
      "Saved Visualization to: mouse-Phase6-classifier/accuracy_results.qzv\n",
      "Saved FeatureTable[Frequency] to: mouse-Phase6-classifier/important-feature-table.qza\n",
      "Saved Visualization to: mouse-Phase6-classifier/feature_importance.qzv\n"
     ]
    }
   ],
   "source": [
    "%%bash -e\n",
    "/usr/share/anaconda3/envs/qiime2-2019.1/bin/qiime feature-table filter-samples \\\n",
    "  --i-table mouse_set_data_merged.qza \\\n",
    "  --m-metadata-file mouse_set_metadata.tsv \\\n",
    "  --p-where \"phase='phase_6'\" \\\n",
    "  --o-filtered-table mouse_set_data_merged-Phase6.qza\n",
    "  \n",
    "/usr/share/anaconda3/envs/qiime2-2019.1/bin/qiime sample-classifier classify-samples \\\n",
    "  --i-table mouse_set_data_merged-Phase6.qza \\\n",
    "  --m-metadata-file mouse_set_metadata.tsv \\\n",
    "  --m-metadata-column group \\\n",
    "  --p-optimize-feature-selection \\\n",
    "  --p-parameter-tuning \\\n",
    "  --p-estimator RandomForestClassifier \\\n",
    "  --p-n-estimators 20 \\\n",
    "  --p-random-state 123 \\\n",
    "  --output-dir mouse-Phase6-classifier\n",
    "  \n",
    "/usr/share/anaconda3/envs/qiime2-2019.1/bin/qiime feature-table filter-features \\\n",
    "  --i-table mouse_set_data_merged-Phase6.qza \\\n",
    "  --m-metadata-file mouse-Phase6-classifier/feature_importance.qza \\\n",
    "  --o-filtered-table mouse-Phase6-classifier/important-feature-table.qza\n",
    "  \n",
    "/usr/share/anaconda3/envs/qiime2-2019.1/bin/qiime metadata tabulate \\\n",
    "  --m-input-file mouse-Phase6-classifier/feature_importance.qza \\\n",
    "  --o-visualization mouse-Phase6-classifier/feature_importance.qzv"
   ]
  },
  {
   "cell_type": "markdown",
   "metadata": {},
   "source": [
    "We build another classifier, this time in the High-Fat diet phase.\n",
    "\n",
    "**We obtain 100% classification accuracy. The following genus differenciate healthy mice from IBD mice under high-fat diet with the highest significance: Clostridium_XlVa (OTU_150), Blautia (OTU_94), Faecalibacterium (OTU_122), Clostridium_IV (OTU_149), Lactonifactor (OTU_63), Pseudoflavonifractor (OTU_145), Parabacteroides (OTU_16), Faecalibacterium (OTU_115), Butyricicoccus (OTU_133), Ruminococcus (OTU_123).**"
   ]
  },
  {
   "cell_type": "code",
   "execution_count": 137,
   "metadata": {},
   "outputs": [
    {
     "name": "stdout",
     "output_type": "stream",
     "text": [
      "Saved FeatureTable[Frequency] to: mouse_set_data_merged-Phase2.qza\n",
      "Saved SampleEstimator[Classifier] to: mouse-Phase2-classifier/sample_estimator.qza\n",
      "Saved FeatureData[Importance] to: mouse-Phase2-classifier/feature_importance.qza\n",
      "Saved SampleData[ClassifierPredictions] to: mouse-Phase2-classifier/predictions.qza\n",
      "Saved Visualization to: mouse-Phase2-classifier/model_summary.qzv\n",
      "Saved Visualization to: mouse-Phase2-classifier/accuracy_results.qzv\n",
      "Saved FeatureTable[Frequency] to: mouse-Phase2-classifier/important-feature-table.qza\n",
      "Saved Visualization to: mouse-Phase2-classifier/feature_importance.qzv\n"
     ]
    }
   ],
   "source": [
    "%%bash -e\n",
    "/usr/share/anaconda3/envs/qiime2-2019.1/bin/qiime feature-table filter-samples \\\n",
    "  --i-table mouse_set_data_merged.qza \\\n",
    "  --m-metadata-file mouse_set_metadata.tsv \\\n",
    "  --p-where \"phase='phase_2'\" \\\n",
    "  --o-filtered-table mouse_set_data_merged-Phase2.qza\n",
    "  \n",
    "/usr/share/anaconda3/envs/qiime2-2019.1/bin/qiime sample-classifier classify-samples \\\n",
    "  --i-table mouse_set_data_merged-Phase2.qza \\\n",
    "  --m-metadata-file mouse_set_metadata.tsv \\\n",
    "  --m-metadata-column group \\\n",
    "  --p-optimize-feature-selection \\\n",
    "  --p-parameter-tuning \\\n",
    "  --p-estimator RandomForestClassifier \\\n",
    "  --p-n-estimators 20 \\\n",
    "  --p-random-state 123 \\\n",
    "  --output-dir mouse-Phase2-classifier\n",
    "  \n",
    "/usr/share/anaconda3/envs/qiime2-2019.1/bin/qiime feature-table filter-features \\\n",
    "  --i-table mouse_set_data_merged-Phase2.qza \\\n",
    "  --m-metadata-file mouse-Phase2-classifier/feature_importance.qza \\\n",
    "  --o-filtered-table mouse-Phase2-classifier/important-feature-table.qza\n",
    "  \n",
    "/usr/share/anaconda3/envs/qiime2-2019.1/bin/qiime metadata tabulate \\\n",
    "  --m-input-file mouse-Phase2-classifier/feature_importance.qza \\\n",
    "  --o-visualization mouse-Phase2-classifier/feature_importance.qzv"
   ]
  },
  {
   "cell_type": "code",
   "execution_count": null,
   "metadata": {},
   "outputs": [],
   "source": []
  },
  {
   "cell_type": "code",
   "execution_count": null,
   "metadata": {},
   "outputs": [],
   "source": []
  }
 ],
 "metadata": {
  "kernelspec": {
   "display_name": "Python (quiime2)",
   "language": "python",
   "name": "qiime2-2019.1"
  },
  "language_info": {
   "codemirror_mode": {
    "name": "ipython",
    "version": 3
   },
   "file_extension": ".py",
   "mimetype": "text/x-python",
   "name": "python",
   "nbconvert_exporter": "python",
   "pygments_lexer": "ipython3",
   "version": "3.6.7"
  }
 },
 "nbformat": 4,
 "nbformat_minor": 2
}
