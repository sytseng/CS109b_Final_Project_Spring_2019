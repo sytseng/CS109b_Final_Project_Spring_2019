{
 "cells": [
  {
   "cell_type": "code",
   "execution_count": 1,
   "metadata": {},
   "outputs": [],
   "source": [
    "%matplotlib inline\n",
    "import numpy as np\n",
    "import pandas as pd\n",
    "import matplotlib.pyplot as plt\n",
    "import pickle\n",
    "import matplotlib.patches\n",
    "import seaborn as sns\n",
    "\n",
    "# scikit-learn bootstrap\n",
    "from sklearn.utils import resample"
   ]
  },
  {
   "cell_type": "code",
   "execution_count": 2,
   "metadata": {},
   "outputs": [
    {
     "data": {
      "text/html": [
       "<style>\n",
       "blockquote { background: #AEDE94; }\n",
       "h1 { \n",
       "    padding-top: 25px;\n",
       "    padding-bottom: 25px;\n",
       "    text-align: left; \n",
       "    padding-left: 10px;\n",
       "    background-color: #DDDDDD; \n",
       "    color: black;\n",
       "}\n",
       "h2 { \n",
       "    padding-top: 10px;\n",
       "    padding-bottom: 10px;\n",
       "    text-align: left; \n",
       "    padding-left: 5px;\n",
       "    background-color: #EEEEEE; \n",
       "    color: black;\n",
       "}\n",
       "\n",
       "div.exercise {\n",
       "\tbackground-color: #ffcccc;\n",
       "\tborder-color: #E9967A; \t\n",
       "\tborder-left: 5px solid #800080; \n",
       "\tpadding: 0.5em;\n",
       "}\n",
       "\n",
       "span.sub-q {\n",
       "\tfont-weight: bold;\n",
       "}\n",
       "div.theme {\n",
       "\tbackground-color: #DDDDDD;\n",
       "\tborder-color: #E9967A; \t\n",
       "\tborder-left: 5px solid #800080; \n",
       "\tpadding: 0.5em;\n",
       "\tfont-size: 18pt;\n",
       "}\n",
       "div.gc { \n",
       "\tbackground-color: #AEDE94;\n",
       "\tborder-color: #E9967A; \t \n",
       "\tborder-left: 5px solid #800080; \n",
       "\tpadding: 0.5em;\n",
       "\tfont-size: 12pt;\n",
       "}\n",
       "p.q1 { \n",
       "    padding-top: 5px;\n",
       "    padding-bottom: 5px;\n",
       "    text-align: left; \n",
       "    padding-left: 5px;\n",
       "    background-color: #EEEEEE; \n",
       "    color: black;\n",
       "}\n",
       "header {\n",
       "   padding-top: 35px;\n",
       "    padding-bottom: 35px;\n",
       "    text-align: left; \n",
       "    padding-left: 10px;\n",
       "    background-color: #DDDDDD; \n",
       "    color: black;\n",
       "}\n",
       "</style>\n",
       "\n"
      ],
      "text/plain": [
       "<IPython.core.display.HTML object>"
      ]
     },
     "execution_count": 2,
     "metadata": {},
     "output_type": "execute_result"
    }
   ],
   "source": [
    "#PLEASE RUN THIS CELL \n",
    "import requests\n",
    "from IPython.core.display import HTML\n",
    "styles = requests.get(\"https://raw.githubusercontent.com/Harvard-IACS/2018-CS109A/master/content/styles/cs109.css\").text\n",
    "HTML(styles)"
   ]
  },
  {
   "cell_type": "markdown",
   "metadata": {},
   "source": [
    "### Pre-processing mouse data\n",
    "Load the clusters obtained from previous section, so that we can bootsrap on them."
   ]
  },
  {
   "cell_type": "code",
   "execution_count": 3,
   "metadata": {},
   "outputs": [],
   "source": [
    "### Load DataFrame of log-transfromed averaged time-series for each cluster\n",
    "# (1) Healthy Group\n",
    "df_log_healthy = pd.read_pickle(\"data/df_log_healthy.pkl\")\n",
    "# (2) IBD Group\n",
    "df_log_ibd = pd.read_pickle(\"data/df_log_ibd.pkl\")\n",
    "\n",
    "### Load cluster memberships for every OTU\n",
    "# (1) Healthy Group\n",
    "tree_healthy = pd.read_pickle( \"data/OTU_dm_kmclusters.p\")\n",
    "NMF_healthy = pd.read_pickle( \"data/OTU_NMF_healthy.p\")\n",
    "time_healthy = pd.read_pickle( \"data/OTU_time_healthy.p\")\n",
    "# (2) IBD Group\n",
    "tree_ibd = pd.read_pickle( \"data/OTU_dm_kmclusters_IBD.p\" )\n",
    "NMF_ibd = pd.read_pickle( \"data/OTU_NMF_ibd.p\" )\n",
    "time_ibd = pd.read_pickle( \"data/OTU_time_ibd.p\")"
   ]
  },
  {
   "cell_type": "markdown",
   "metadata": {},
   "source": [
    "## Bootstrapping\n",
    "### Step A. Subset df by cluster Membership\n",
    "Recall that we have three methods to generate clusters: \n",
    "- Tree based: 3 clusters\n",
    "- NMF correlation: 9 clusters\n",
    "- Time correlation: 5 clusters\n",
    "\n",
    "And we have loaded the cluster membership for every OTU above. In this section, we will subset the OTU into those different clusters."
   ]
  },
  {
   "cell_type": "code",
   "execution_count": 131,
   "metadata": {},
   "outputs": [],
   "source": [
    "### Function to subset the dataframe by cluster membership\n",
    "def subset_df_by_membership(df, tree, NMF, time):\n",
    "    # get the total number of otu and time points\n",
    "    (otu_length,time_length) = df.shape\n",
    "\n",
    "    # add the membership as the last column\n",
    "    df['tree']=tree\n",
    "    df['NMF']=NMF\n",
    "    df['time']=time\n",
    "    \n",
    "    # loop through 3 different memberships\n",
    "    methods = ['tree', 'NMF', 'time']\n",
    "    method_list = list()\n",
    "    ###########1##############\n",
    "    # method_list[0]: 'tree' #\n",
    "    # method_list[1]: 'NMF'  #\n",
    "    # method_list[2]: 'time' #\n",
    "    ##########################\n",
    "    for method in methods:\n",
    "        # loop through all clusters\n",
    "        culsters = list(df[method].unique())\n",
    "        df_list = list()\n",
    "        #########################2###########################\n",
    "        # for example:                                      #\n",
    "        # df_list[0]: OTU with membership as first clusters #\n",
    "        # ...                                               #\n",
    "        #####################################################\n",
    "        for cluster in culsters:\n",
    "            df_selected = df[df[method] == cluster].iloc[:,:time_length]\n",
    "            df_list.append(df_selected) #1#\n",
    "        method_list.append(df_list) #2#\n",
    "    \n",
    "    return method_list"
   ]
  },
  {
   "cell_type": "code",
   "execution_count": 132,
   "metadata": {},
   "outputs": [],
   "source": [
    "### Split the DataFrame into clusters based on their Membership, pack them up into the list\n",
    "method_list_healthy = subset_df_by_membership(df_log_healthy, tree_healthy, NMF_healthy, time_healthy)\n",
    "method_list_ibd = subset_df_by_membership(df_log_ibd, tree_ibd, NMF_ibd, time_ibd)"
   ]
  },
  {
   "cell_type": "markdown",
   "metadata": {},
   "source": [
    "### Step B. Bootstrap to generate more mice data\n",
    "Now that we have the clusters, we do bootstrap:\n",
    "- For each single sample step, within every cluster, we randomly choose 30% of the OTUs, took the average of them to generate one time series representing that cluster.\n",
    "- We repeated the sampling for 30 times, to generate the 30 mice."
   ]
  },
  {
   "cell_type": "code",
   "execution_count": 142,
   "metadata": {},
   "outputs": [],
   "source": [
    "### Function to Bootstrap:\n",
    "def bootrapping(method_list, mice_count):\n",
    "    methods = list()\n",
    "    for method in range(3):\n",
    "        mice = list()\n",
    "        for time in range(mice_count):\n",
    "            clusters = list()\n",
    "            for cluster in range(len(method_list[method])):\n",
    "                one_sample = method_list[method][cluster].sample(frac=0.3, replace=True)\n",
    "                log_mean = one_sample[:].mean(axis=0)\n",
    "                # inverse natural log transform\n",
    "                real_mean = np.exp(log_mean)\n",
    "                clusters.append(real_mean)\n",
    "            mice.append(np.array(clusters))\n",
    "        methods.append(mice)\n",
    "        \n",
    "    tree = methods[0]\n",
    "    NMF = methods[1]\n",
    "    time = methods[2]\n",
    "    return tree, NMF, time"
   ]
  },
  {
   "cell_type": "code",
   "execution_count": 150,
   "metadata": {},
   "outputs": [],
   "source": [
    "### Generate 30 mice for both group\n",
    "mice_count=30\n",
    "# (1) Healthy Mice\n",
    "tree_healthy_30_mice, NMF_healthy_30_mice, time_healthy_30_mice = bootrapping(method_list_healthy, mice_count)\n",
    "# (2) IBD Mice\n",
    "tree_ibd_30_mice, NMF_ibd_30_mice, time_ibd_30_mice = bootrapping(method_list_ibd, mice_count)\n",
    "\n",
    "### save the mice as a pickle file\n",
    "# (1) Healthy Mice\n",
    "pickle.dump(tree_healthy_30_mice, open( \"data/30_mice_tree_healthy.p\", \"wb\" ) )\n",
    "pickle.dump(NMF_healthy_30_mice, open( \"data/30_mice_NMF_healthy.p\", \"wb\" ) )\n",
    "pickle.dump(time_healthy_30_mice, open( \"data/30_mice_time_healthy.p\", \"wb\" ) )\n",
    "# (2) IBD Mice\n",
    "pickle.dump(tree_ibd_30_mice, open( \"data/30_mice_tree_ibd.p\", \"wb\" ) )\n",
    "pickle.dump(NMF_ibd_30_mice, open( \"data/30_mice_NMF_ibd.p\", \"wb\" ) )\n",
    "pickle.dump(time_ibd_30_mice, open( \"data/30_mice_time_ibd.p\", \"wb\" ) )"
   ]
  },
  {
   "cell_type": "markdown",
   "metadata": {},
   "source": [
    "### Data Structure Example\n",
    "These are the simulated absolute values (not the log-transformed, they have already been transformed back)."
   ]
  },
  {
   "cell_type": "code",
   "execution_count": 151,
   "metadata": {},
   "outputs": [
    {
     "name": "stdout",
     "output_type": "stream",
     "text": [
      "the nunmber of simulated mice data is:  30\n",
      "within each mouse, the number of the tree_based clusters is:  3\n",
      "for each cluster, the number of the time points is:  75\n"
     ]
    }
   ],
   "source": [
    "#######################################################################\n",
    "# For example: tree_healthy_30_mice                                   #\n",
    "# tree_healthy_30_mice: the first mice data                           #\n",
    "# tree_healthy_30_mice[0]: the first cluster in the first mice data   #\n",
    "# tree_healthy_30_mice[0][0]: the 75 time points of the first cluster #\n",
    "#######################################################################\n",
    "print('the nunmber of simulated mice data is: ', len(tree_healthy_30_mice))\n",
    "print('within each mouse, the number of the tree_based clusters is: ', len(tree_healthy_30_mice[0]))\n",
    "print('for each cluster, the number of the time points is: ', len(tree_healthy_30_mice[0][0]))"
   ]
  }
 ],
 "metadata": {
  "kernelspec": {
   "display_name": "Python 3",
   "language": "python",
   "name": "python3"
  },
  "language_info": {
   "codemirror_mode": {
    "name": "ipython",
    "version": 3
   },
   "file_extension": ".py",
   "mimetype": "text/x-python",
   "name": "python",
   "nbconvert_exporter": "python",
   "pygments_lexer": "ipython3",
   "version": "3.6.8"
  }
 },
 "nbformat": 4,
 "nbformat_minor": 2
}
